{
  "nbformat": 4,
  "nbformat_minor": 0,
  "metadata": {
    "colab": {
      "provenance": [],
      "collapsed_sections": [],
      "authorship_tag": "ABX9TyN9J/hFp7snUljbS3ovfCJk",
      "include_colab_link": true
    },
    "kernelspec": {
      "name": "python3",
      "display_name": "Python 3"
    },
    "language_info": {
      "name": "python"
    }
  },
  "cells": [
    {
      "cell_type": "markdown",
      "metadata": {
        "id": "view-in-github",
        "colab_type": "text"
      },
      "source": [
        "<a href=\"https://colab.research.google.com/github/KamilBartosik/RNN_AirPolutionPrediction/blob/main/RNN_AirPolutionData.ipynb\" target=\"_parent\"><img src=\"https://colab.research.google.com/assets/colab-badge.svg\" alt=\"Open In Colab\"/></a>"
      ]
    },
    {
      "cell_type": "code",
      "execution_count": 1,
      "metadata": {
        "colab": {
          "base_uri": "https://localhost:8080/"
        },
        "id": "bCgREAP7TJgN",
        "outputId": "ab15291d-7da5-4f55-a61b-1cbcd7d7a9f9"
      },
      "outputs": [
        {
          "output_type": "stream",
          "name": "stdout",
          "text": [
            "Drive already mounted at /content/gdrive; to attempt to forcibly remount, call drive.mount(\"/content/gdrive\", force_remount=True).\n"
          ]
        }
      ],
      "source": [
        "from google.colab import drive\n",
        "drive.mount('/content/gdrive')"
      ]
    },
    {
      "cell_type": "code",
      "source": [
        "import math\n",
        "import numpy as np\n",
        "import pandas as pd\n",
        "import matplotlib.pyplot as plt\n",
        "\n",
        "from sklearn.preprocessing import MinMaxScaler\n",
        "from sklearn.metrics import mean_squared_error, r2_score\n",
        "\n",
        "from keras.models import Sequential\n",
        "from keras.layers import LSTM, GRU, Dense, Dropout\n",
        "from keras.callbacks import ModelCheckpoint, EarlyStopping, ReduceLROnPlateau"
      ],
      "metadata": {
        "id": "Gl7w8eFbTiwX"
      },
      "execution_count": 2,
      "outputs": []
    },
    {
      "cell_type": "code",
      "source": [
        "dataset_path = '/content/gdrive/MyDrive/MachineLearning/Datasets/Air_Pollution/Dataset.csv'\n",
        "df = pd.read_csv(dataset_path)"
      ],
      "metadata": {
        "id": "x_cdZRI3V_o2"
      },
      "execution_count": 3,
      "outputs": []
    },
    {
      "cell_type": "code",
      "source": [
        "df.head()"
      ],
      "metadata": {
        "colab": {
          "base_uri": "https://localhost:8080/",
          "height": 206
        },
        "id": "gNe9s6cAWiLH",
        "outputId": "90aca461-0488-430d-cbb8-95babc37d4ef"
      },
      "execution_count": 4,
      "outputs": [
        {
          "output_type": "execute_result",
          "data": {
            "text/plain": [
              "          Date  Temperature   NOx Wind Direction Wind Speed PM2.5\n",
              "0  1/1/19 0:00         17.2  16.2             18          2    17\n",
              "1  1/1/19 1:00         17.2    17            357        2.2    20\n",
              "2  1/1/19 2:00         17.0  14.6             16        2.3    14\n",
              "3  1/1/19 3:00         16.8  12.8              6        2.7    15\n",
              "4  1/1/19 4:00         16.7  16.3             14        2.2    10"
            ],
            "text/html": [
              "\n",
              "  <div id=\"df-04ce38e3-827d-4df0-9bf9-6f97f1d5c5a6\">\n",
              "    <div class=\"colab-df-container\">\n",
              "      <div>\n",
              "<style scoped>\n",
              "    .dataframe tbody tr th:only-of-type {\n",
              "        vertical-align: middle;\n",
              "    }\n",
              "\n",
              "    .dataframe tbody tr th {\n",
              "        vertical-align: top;\n",
              "    }\n",
              "\n",
              "    .dataframe thead th {\n",
              "        text-align: right;\n",
              "    }\n",
              "</style>\n",
              "<table border=\"1\" class=\"dataframe\">\n",
              "  <thead>\n",
              "    <tr style=\"text-align: right;\">\n",
              "      <th></th>\n",
              "      <th>Date</th>\n",
              "      <th>Temperature</th>\n",
              "      <th>NOx</th>\n",
              "      <th>Wind Direction</th>\n",
              "      <th>Wind Speed</th>\n",
              "      <th>PM2.5</th>\n",
              "    </tr>\n",
              "  </thead>\n",
              "  <tbody>\n",
              "    <tr>\n",
              "      <th>0</th>\n",
              "      <td>1/1/19 0:00</td>\n",
              "      <td>17.2</td>\n",
              "      <td>16.2</td>\n",
              "      <td>18</td>\n",
              "      <td>2</td>\n",
              "      <td>17</td>\n",
              "    </tr>\n",
              "    <tr>\n",
              "      <th>1</th>\n",
              "      <td>1/1/19 1:00</td>\n",
              "      <td>17.2</td>\n",
              "      <td>17</td>\n",
              "      <td>357</td>\n",
              "      <td>2.2</td>\n",
              "      <td>20</td>\n",
              "    </tr>\n",
              "    <tr>\n",
              "      <th>2</th>\n",
              "      <td>1/1/19 2:00</td>\n",
              "      <td>17.0</td>\n",
              "      <td>14.6</td>\n",
              "      <td>16</td>\n",
              "      <td>2.3</td>\n",
              "      <td>14</td>\n",
              "    </tr>\n",
              "    <tr>\n",
              "      <th>3</th>\n",
              "      <td>1/1/19 3:00</td>\n",
              "      <td>16.8</td>\n",
              "      <td>12.8</td>\n",
              "      <td>6</td>\n",
              "      <td>2.7</td>\n",
              "      <td>15</td>\n",
              "    </tr>\n",
              "    <tr>\n",
              "      <th>4</th>\n",
              "      <td>1/1/19 4:00</td>\n",
              "      <td>16.7</td>\n",
              "      <td>16.3</td>\n",
              "      <td>14</td>\n",
              "      <td>2.2</td>\n",
              "      <td>10</td>\n",
              "    </tr>\n",
              "  </tbody>\n",
              "</table>\n",
              "</div>\n",
              "      <button class=\"colab-df-convert\" onclick=\"convertToInteractive('df-04ce38e3-827d-4df0-9bf9-6f97f1d5c5a6')\"\n",
              "              title=\"Convert this dataframe to an interactive table.\"\n",
              "              style=\"display:none;\">\n",
              "        \n",
              "  <svg xmlns=\"http://www.w3.org/2000/svg\" height=\"24px\"viewBox=\"0 0 24 24\"\n",
              "       width=\"24px\">\n",
              "    <path d=\"M0 0h24v24H0V0z\" fill=\"none\"/>\n",
              "    <path d=\"M18.56 5.44l.94 2.06.94-2.06 2.06-.94-2.06-.94-.94-2.06-.94 2.06-2.06.94zm-11 1L8.5 8.5l.94-2.06 2.06-.94-2.06-.94L8.5 2.5l-.94 2.06-2.06.94zm10 10l.94 2.06.94-2.06 2.06-.94-2.06-.94-.94-2.06-.94 2.06-2.06.94z\"/><path d=\"M17.41 7.96l-1.37-1.37c-.4-.4-.92-.59-1.43-.59-.52 0-1.04.2-1.43.59L10.3 9.45l-7.72 7.72c-.78.78-.78 2.05 0 2.83L4 21.41c.39.39.9.59 1.41.59.51 0 1.02-.2 1.41-.59l7.78-7.78 2.81-2.81c.8-.78.8-2.07 0-2.86zM5.41 20L4 18.59l7.72-7.72 1.47 1.35L5.41 20z\"/>\n",
              "  </svg>\n",
              "      </button>\n",
              "      \n",
              "  <style>\n",
              "    .colab-df-container {\n",
              "      display:flex;\n",
              "      flex-wrap:wrap;\n",
              "      gap: 12px;\n",
              "    }\n",
              "\n",
              "    .colab-df-convert {\n",
              "      background-color: #E8F0FE;\n",
              "      border: none;\n",
              "      border-radius: 50%;\n",
              "      cursor: pointer;\n",
              "      display: none;\n",
              "      fill: #1967D2;\n",
              "      height: 32px;\n",
              "      padding: 0 0 0 0;\n",
              "      width: 32px;\n",
              "    }\n",
              "\n",
              "    .colab-df-convert:hover {\n",
              "      background-color: #E2EBFA;\n",
              "      box-shadow: 0px 1px 2px rgba(60, 64, 67, 0.3), 0px 1px 3px 1px rgba(60, 64, 67, 0.15);\n",
              "      fill: #174EA6;\n",
              "    }\n",
              "\n",
              "    [theme=dark] .colab-df-convert {\n",
              "      background-color: #3B4455;\n",
              "      fill: #D2E3FC;\n",
              "    }\n",
              "\n",
              "    [theme=dark] .colab-df-convert:hover {\n",
              "      background-color: #434B5C;\n",
              "      box-shadow: 0px 1px 3px 1px rgba(0, 0, 0, 0.15);\n",
              "      filter: drop-shadow(0px 1px 2px rgba(0, 0, 0, 0.3));\n",
              "      fill: #FFFFFF;\n",
              "    }\n",
              "  </style>\n",
              "\n",
              "      <script>\n",
              "        const buttonEl =\n",
              "          document.querySelector('#df-04ce38e3-827d-4df0-9bf9-6f97f1d5c5a6 button.colab-df-convert');\n",
              "        buttonEl.style.display =\n",
              "          google.colab.kernel.accessAllowed ? 'block' : 'none';\n",
              "\n",
              "        async function convertToInteractive(key) {\n",
              "          const element = document.querySelector('#df-04ce38e3-827d-4df0-9bf9-6f97f1d5c5a6');\n",
              "          const dataTable =\n",
              "            await google.colab.kernel.invokeFunction('convertToInteractive',\n",
              "                                                     [key], {});\n",
              "          if (!dataTable) return;\n",
              "\n",
              "          const docLinkHtml = 'Like what you see? Visit the ' +\n",
              "            '<a target=\"_blank\" href=https://colab.research.google.com/notebooks/data_table.ipynb>data table notebook</a>'\n",
              "            + ' to learn more about interactive tables.';\n",
              "          element.innerHTML = '';\n",
              "          dataTable['output_type'] = 'display_data';\n",
              "          await google.colab.output.renderOutput(dataTable, element);\n",
              "          const docLink = document.createElement('div');\n",
              "          docLink.innerHTML = docLinkHtml;\n",
              "          element.appendChild(docLink);\n",
              "        }\n",
              "      </script>\n",
              "    </div>\n",
              "  </div>\n",
              "  "
            ]
          },
          "metadata": {},
          "execution_count": 4
        }
      ]
    },
    {
      "cell_type": "code",
      "source": [
        "df.shape"
      ],
      "metadata": {
        "colab": {
          "base_uri": "https://localhost:8080/"
        },
        "id": "wTZrPBOoWlel",
        "outputId": "82f642ad-8d67-4665-b30c-9138453ec5ea"
      },
      "execution_count": 5,
      "outputs": [
        {
          "output_type": "execute_result",
          "data": {
            "text/plain": [
              "(1416, 6)"
            ]
          },
          "metadata": {},
          "execution_count": 5
        }
      ]
    },
    {
      "cell_type": "code",
      "source": [
        "df.info()"
      ],
      "metadata": {
        "colab": {
          "base_uri": "https://localhost:8080/"
        },
        "id": "x57XQpHsXxPN",
        "outputId": "d460bb52-dd8e-4401-8703-2fbfc998f3cb"
      },
      "execution_count": 6,
      "outputs": [
        {
          "output_type": "stream",
          "name": "stdout",
          "text": [
            "<class 'pandas.core.frame.DataFrame'>\n",
            "RangeIndex: 1416 entries, 0 to 1415\n",
            "Data columns (total 6 columns):\n",
            " #   Column          Non-Null Count  Dtype  \n",
            "---  ------          --------------  -----  \n",
            " 0   Date            1416 non-null   object \n",
            " 1   Temperature     1416 non-null   float64\n",
            " 2   NOx             1416 non-null   object \n",
            " 3   Wind Direction  1416 non-null   object \n",
            " 4   Wind Speed      1416 non-null   object \n",
            " 5   PM2.5           1416 non-null   object \n",
            "dtypes: float64(1), object(5)\n",
            "memory usage: 66.5+ KB\n"
          ]
        }
      ]
    },
    {
      "cell_type": "code",
      "source": [
        "wrong_NOx = []\n",
        "wrong_WD = []\n",
        "wrong_WS = []\n",
        "wrong_PM = []\n",
        "\n",
        "def check_wrong_values(column, values):\n",
        "  \n",
        "  for i in range(len(df)):\n",
        "    try:\n",
        "      df[column][i] = float(df[column][i])\n",
        "    except:\n",
        "      values.append(i)"
      ],
      "metadata": {
        "id": "xWwmIWCh2WOr"
      },
      "execution_count": 7,
      "outputs": []
    },
    {
      "cell_type": "code",
      "source": [
        "def display_examples(column, values, ex_11, ex_12, ex_21, ex_22):\n",
        "  \n",
        "  print('Wrong values:')\n",
        "  print(df[column][values])\n",
        "\n",
        "  print('\\nHow value(s) of 1st example look among neighbours:\\n')\n",
        "  print(df[column][ex_11:ex_12])\n",
        "\n",
        "  print('\\nHow value(s) of 2nd example look among neighbours:\\n')\n",
        "  print(df[column][ex_21:ex_22])"
      ],
      "metadata": {
        "id": "PAE9gv_g5K_7"
      },
      "execution_count": 8,
      "outputs": []
    },
    {
      "cell_type": "code",
      "source": [
        "check_wrong_values('NOx', wrong_NOx)"
      ],
      "metadata": {
        "colab": {
          "base_uri": "https://localhost:8080/"
        },
        "id": "APFBwe6HcLP8",
        "outputId": "25ccf0ff-c471-451c-9fc3-f6e2e083cc29"
      },
      "execution_count": 9,
      "outputs": [
        {
          "output_type": "stream",
          "name": "stderr",
          "text": [
            "/usr/local/lib/python3.7/dist-packages/ipykernel_launcher.py:10: SettingWithCopyWarning: \n",
            "A value is trying to be set on a copy of a slice from a DataFrame\n",
            "\n",
            "See the caveats in the documentation: https://pandas.pydata.org/pandas-docs/stable/user_guide/indexing.html#returning-a-view-versus-a-copy\n",
            "  # Remove the CWD from sys.path while we load stuff.\n"
          ]
        }
      ]
    },
    {
      "cell_type": "code",
      "source": [
        "display_examples('NOx', wrong_NOx, 157, 164, 1258, 1268)"
      ],
      "metadata": {
        "colab": {
          "base_uri": "https://localhost:8080/"
        },
        "id": "66vSHJBb5l9B",
        "outputId": "5cb1dec9-0244-4835-9480-b627c8b3dcbf"
      },
      "execution_count": 10,
      "outputs": [
        {
          "output_type": "stream",
          "name": "stdout",
          "text": [
            "Wrong values:\n",
            "159     13.1#                          \n",
            "161     23#                            \n",
            "179     18.5#                          \n",
            "272     49.9#                          \n",
            "325     10.9#                          \n",
            "491     26.2#                          \n",
            "673     38.6#                          \n",
            "951     11.2#                          \n",
            "1261    9.1#                           \n",
            "1263    8.5#                           \n",
            "1264    12.4#                          \n",
            "1335    50.1#                          \n",
            "Name: NOx, dtype: object\n",
            "\n",
            "How value(s) of 1st example look among neighbours:\n",
            "\n",
            "157                               12.8\n",
            "158                               13.0\n",
            "159    13.1#                          \n",
            "160                               16.1\n",
            "161    23#                            \n",
            "162                               21.6\n",
            "163                               15.0\n",
            "Name: NOx, dtype: object\n",
            "\n",
            "How value(s) of 2nd example look among neighbours:\n",
            "\n",
            "1258                               15.1\n",
            "1259                               14.0\n",
            "1260                               10.6\n",
            "1261    9.1#                           \n",
            "1262                                8.1\n",
            "1263    8.5#                           \n",
            "1264    12.4#                          \n",
            "1265                               11.6\n",
            "1266                               10.9\n",
            "1267                               12.5\n",
            "Name: NOx, dtype: object\n"
          ]
        }
      ]
    },
    {
      "cell_type": "code",
      "source": [
        "check_wrong_values('Wind Direction', wrong_WD)"
      ],
      "metadata": {
        "colab": {
          "base_uri": "https://localhost:8080/"
        },
        "id": "ggw4LfXl4Hu4",
        "outputId": "fe99cbe4-d4d4-4705-9cfd-c7bb761a351f"
      },
      "execution_count": 11,
      "outputs": [
        {
          "output_type": "stream",
          "name": "stderr",
          "text": [
            "/usr/local/lib/python3.7/dist-packages/ipykernel_launcher.py:10: SettingWithCopyWarning: \n",
            "A value is trying to be set on a copy of a slice from a DataFrame\n",
            "\n",
            "See the caveats in the documentation: https://pandas.pydata.org/pandas-docs/stable/user_guide/indexing.html#returning-a-view-versus-a-copy\n",
            "  # Remove the CWD from sys.path while we load stuff.\n"
          ]
        }
      ]
    },
    {
      "cell_type": "code",
      "source": [
        "display_examples('Wind Direction', wrong_WD, 417, 424, 1089, 1096)"
      ],
      "metadata": {
        "colab": {
          "base_uri": "https://localhost:8080/"
        },
        "id": "bKZGIEl3dboG",
        "outputId": "7c09a2d2-e234-417d-ca0c-2e9fef7122c5"
      },
      "execution_count": 12,
      "outputs": [
        {
          "output_type": "stream",
          "name": "stdout",
          "text": [
            "Wrong values:\n",
            "420     295#                           \n",
            "1092    0#                             \n",
            "Name: Wind Direction, dtype: object\n",
            "\n",
            "How value(s) of 1st example look among neighbours:\n",
            "\n",
            "417                              268.0\n",
            "418                              344.0\n",
            "419                              312.0\n",
            "420    295#                           \n",
            "421                              299.0\n",
            "422                              301.0\n",
            "423                              302.0\n",
            "Name: Wind Direction, dtype: object\n",
            "\n",
            "How value(s) of 2nd example look among neighbours:\n",
            "\n",
            "1089                               17.0\n",
            "1090                              338.0\n",
            "1091                               31.0\n",
            "1092    0#                             \n",
            "1093                              284.0\n",
            "1094                              221.0\n",
            "1095                              256.0\n",
            "Name: Wind Direction, dtype: object\n"
          ]
        }
      ]
    },
    {
      "cell_type": "code",
      "source": [
        "check_wrong_values('Wind Speed', wrong_WS)"
      ],
      "metadata": {
        "colab": {
          "base_uri": "https://localhost:8080/"
        },
        "id": "aaZ6vjiH4TvO",
        "outputId": "91657ffb-0b2e-4fbf-895a-5bf566829953"
      },
      "execution_count": 13,
      "outputs": [
        {
          "output_type": "stream",
          "name": "stderr",
          "text": [
            "/usr/local/lib/python3.7/dist-packages/ipykernel_launcher.py:10: SettingWithCopyWarning: \n",
            "A value is trying to be set on a copy of a slice from a DataFrame\n",
            "\n",
            "See the caveats in the documentation: https://pandas.pydata.org/pandas-docs/stable/user_guide/indexing.html#returning-a-view-versus-a-copy\n",
            "  # Remove the CWD from sys.path while we load stuff.\n"
          ]
        }
      ]
    },
    {
      "cell_type": "code",
      "source": [
        "display_examples('Wind Speed', wrong_WS, 417, 424, 1089, 1096)"
      ],
      "metadata": {
        "colab": {
          "base_uri": "https://localhost:8080/"
        },
        "id": "DDLHj5ZU1qfM",
        "outputId": "f7eef1fe-1a93-465a-eddc-b5083128abe5"
      },
      "execution_count": 14,
      "outputs": [
        {
          "output_type": "stream",
          "name": "stdout",
          "text": [
            "Wrong values:\n",
            "420     1.6#                           \n",
            "1092    0#                             \n",
            "Name: Wind Speed, dtype: object\n",
            "\n",
            "How value(s) of 1st example look among neighbours:\n",
            "\n",
            "417                                1.4\n",
            "418                                1.6\n",
            "419                                2.1\n",
            "420    1.6#                           \n",
            "421                                2.5\n",
            "422                                2.5\n",
            "423                                2.5\n",
            "Name: Wind Speed, dtype: object\n",
            "\n",
            "How value(s) of 2nd example look among neighbours:\n",
            "\n",
            "1089                                2.1\n",
            "1090                                2.7\n",
            "1091                                1.5\n",
            "1092    0#                             \n",
            "1093                                1.7\n",
            "1094                                3.9\n",
            "1095                                2.4\n",
            "Name: Wind Speed, dtype: object\n"
          ]
        }
      ]
    },
    {
      "cell_type": "code",
      "source": [
        "check_wrong_values('PM2.5', wrong_PM)"
      ],
      "metadata": {
        "colab": {
          "base_uri": "https://localhost:8080/"
        },
        "id": "Bj15Wrtb4l4i",
        "outputId": "d8ad7cb0-090e-49d4-d2b5-c4f00c80d966"
      },
      "execution_count": 15,
      "outputs": [
        {
          "output_type": "stream",
          "name": "stderr",
          "text": [
            "/usr/local/lib/python3.7/dist-packages/ipykernel_launcher.py:10: SettingWithCopyWarning: \n",
            "A value is trying to be set on a copy of a slice from a DataFrame\n",
            "\n",
            "See the caveats in the documentation: https://pandas.pydata.org/pandas-docs/stable/user_guide/indexing.html#returning-a-view-versus-a-copy\n",
            "  # Remove the CWD from sys.path while we load stuff.\n"
          ]
        }
      ]
    },
    {
      "cell_type": "code",
      "source": [
        "print('Wrong values:')\n",
        "print(df['PM2.5'][wrong_PM])"
      ],
      "metadata": {
        "colab": {
          "base_uri": "https://localhost:8080/"
        },
        "id": "4iAnjuy24l9v",
        "outputId": "0e6c6472-fb1c-4f46-8c03-fefdc56fe090"
      },
      "execution_count": 16,
      "outputs": [
        {
          "output_type": "stream",
          "name": "stdout",
          "text": [
            "Wrong values:\n",
            "37      16#                            \n",
            "38      27#                            \n",
            "159     793#                           \n",
            "178     745#                           \n",
            "323     27#                            \n",
            "324     30#                            \n",
            "420     1#                             \n",
            "491     785#                           \n",
            "492     33#                            \n",
            "580     161*                           \n",
            "581     157x                           \n",
            "582     155x                           \n",
            "606     98x                            \n",
            "734     43#                            \n",
            "735     27#                            \n",
            "950     784#                           \n",
            "1091    33#                            \n",
            "1092    47#                            \n",
            "1262    22#                            \n",
            "1263    753#                           \n",
            "1264    42#                            \n",
            "1335    800#                           \n",
            "1359    25#                            \n",
            "1360    174#                           \n",
            "1361    170#                           \n",
            "1362    179#                           \n",
            "Name: PM2.5, dtype: object\n"
          ]
        }
      ]
    },
    {
      "cell_type": "code",
      "source": [
        "def replace_hashes(column, values):\n",
        "  \n",
        "  for i in values:\n",
        "    df[column][i] = df[column][i].replace(\"#\", \"\")\n",
        "\n",
        "replace_hashes('NOx', wrong_NOx)\n",
        "replace_hashes('Wind Direction', wrong_WD)\n",
        "replace_hashes('Wind Speed', wrong_WS)"
      ],
      "metadata": {
        "colab": {
          "base_uri": "https://localhost:8080/"
        },
        "id": "E3ctXuxI-Ync",
        "outputId": "4921a011-b096-4a61-8164-0e069291f551"
      },
      "execution_count": 17,
      "outputs": [
        {
          "output_type": "stream",
          "name": "stderr",
          "text": [
            "/usr/local/lib/python3.7/dist-packages/ipykernel_launcher.py:4: SettingWithCopyWarning: \n",
            "A value is trying to be set on a copy of a slice from a DataFrame\n",
            "\n",
            "See the caveats in the documentation: https://pandas.pydata.org/pandas-docs/stable/user_guide/indexing.html#returning-a-view-versus-a-copy\n",
            "  after removing the cwd from sys.path.\n"
          ]
        }
      ]
    },
    {
      "cell_type": "code",
      "source": [],
      "metadata": {
        "id": "btgKn_kyycHO"
      },
      "execution_count": 17,
      "outputs": []
    },
    {
      "cell_type": "code",
      "source": [
        "df = df.astype({'NOx':'float', 'Wind Direction':'int', 'Wind Speed':'float'})"
      ],
      "metadata": {
        "id": "VKAlsKEg_ysN"
      },
      "execution_count": 18,
      "outputs": []
    },
    {
      "cell_type": "code",
      "source": [
        "df.info()"
      ],
      "metadata": {
        "colab": {
          "base_uri": "https://localhost:8080/"
        },
        "id": "VyKpGuGU_3uM",
        "outputId": "005a7aa8-be90-4ae7-b8f4-d5eadd0a7be7"
      },
      "execution_count": 19,
      "outputs": [
        {
          "output_type": "stream",
          "name": "stdout",
          "text": [
            "<class 'pandas.core.frame.DataFrame'>\n",
            "RangeIndex: 1416 entries, 0 to 1415\n",
            "Data columns (total 6 columns):\n",
            " #   Column          Non-Null Count  Dtype  \n",
            "---  ------          --------------  -----  \n",
            " 0   Date            1416 non-null   object \n",
            " 1   Temperature     1416 non-null   float64\n",
            " 2   NOx             1416 non-null   float64\n",
            " 3   Wind Direction  1416 non-null   int64  \n",
            " 4   Wind Speed      1416 non-null   float64\n",
            " 5   PM2.5           1416 non-null   object \n",
            "dtypes: float64(3), int64(1), object(2)\n",
            "memory usage: 66.5+ KB\n"
          ]
        }
      ]
    },
    {
      "cell_type": "code",
      "source": [
        "df.describe()"
      ],
      "metadata": {
        "colab": {
          "base_uri": "https://localhost:8080/",
          "height": 300
        },
        "id": "CgnunX-2_3wc",
        "outputId": "7027d07f-e3d8-48a1-ba3b-097bc73827be"
      },
      "execution_count": 20,
      "outputs": [
        {
          "output_type": "execute_result",
          "data": {
            "text/plain": [
              "       Temperature          NOx  Wind Direction   Wind Speed\n",
              "count  1416.000000  1416.000000     1416.000000  1416.000000\n",
              "mean     20.950282    19.421398      116.644774     2.450777\n",
              "std       3.438216     8.622356      141.731594     0.801641\n",
              "min      12.000000     5.700000        0.000000     0.000000\n",
              "25%      18.700000    13.600000       13.000000     1.900000\n",
              "50%      20.500000    17.300000       24.000000     2.500000\n",
              "75%      23.400000    23.000000      301.000000     3.000000\n",
              "max      30.500000    73.100000      360.000000     4.800000"
            ],
            "text/html": [
              "\n",
              "  <div id=\"df-4945113f-9d5a-4d25-a5cc-5f4dde0698b5\">\n",
              "    <div class=\"colab-df-container\">\n",
              "      <div>\n",
              "<style scoped>\n",
              "    .dataframe tbody tr th:only-of-type {\n",
              "        vertical-align: middle;\n",
              "    }\n",
              "\n",
              "    .dataframe tbody tr th {\n",
              "        vertical-align: top;\n",
              "    }\n",
              "\n",
              "    .dataframe thead th {\n",
              "        text-align: right;\n",
              "    }\n",
              "</style>\n",
              "<table border=\"1\" class=\"dataframe\">\n",
              "  <thead>\n",
              "    <tr style=\"text-align: right;\">\n",
              "      <th></th>\n",
              "      <th>Temperature</th>\n",
              "      <th>NOx</th>\n",
              "      <th>Wind Direction</th>\n",
              "      <th>Wind Speed</th>\n",
              "    </tr>\n",
              "  </thead>\n",
              "  <tbody>\n",
              "    <tr>\n",
              "      <th>count</th>\n",
              "      <td>1416.000000</td>\n",
              "      <td>1416.000000</td>\n",
              "      <td>1416.000000</td>\n",
              "      <td>1416.000000</td>\n",
              "    </tr>\n",
              "    <tr>\n",
              "      <th>mean</th>\n",
              "      <td>20.950282</td>\n",
              "      <td>19.421398</td>\n",
              "      <td>116.644774</td>\n",
              "      <td>2.450777</td>\n",
              "    </tr>\n",
              "    <tr>\n",
              "      <th>std</th>\n",
              "      <td>3.438216</td>\n",
              "      <td>8.622356</td>\n",
              "      <td>141.731594</td>\n",
              "      <td>0.801641</td>\n",
              "    </tr>\n",
              "    <tr>\n",
              "      <th>min</th>\n",
              "      <td>12.000000</td>\n",
              "      <td>5.700000</td>\n",
              "      <td>0.000000</td>\n",
              "      <td>0.000000</td>\n",
              "    </tr>\n",
              "    <tr>\n",
              "      <th>25%</th>\n",
              "      <td>18.700000</td>\n",
              "      <td>13.600000</td>\n",
              "      <td>13.000000</td>\n",
              "      <td>1.900000</td>\n",
              "    </tr>\n",
              "    <tr>\n",
              "      <th>50%</th>\n",
              "      <td>20.500000</td>\n",
              "      <td>17.300000</td>\n",
              "      <td>24.000000</td>\n",
              "      <td>2.500000</td>\n",
              "    </tr>\n",
              "    <tr>\n",
              "      <th>75%</th>\n",
              "      <td>23.400000</td>\n",
              "      <td>23.000000</td>\n",
              "      <td>301.000000</td>\n",
              "      <td>3.000000</td>\n",
              "    </tr>\n",
              "    <tr>\n",
              "      <th>max</th>\n",
              "      <td>30.500000</td>\n",
              "      <td>73.100000</td>\n",
              "      <td>360.000000</td>\n",
              "      <td>4.800000</td>\n",
              "    </tr>\n",
              "  </tbody>\n",
              "</table>\n",
              "</div>\n",
              "      <button class=\"colab-df-convert\" onclick=\"convertToInteractive('df-4945113f-9d5a-4d25-a5cc-5f4dde0698b5')\"\n",
              "              title=\"Convert this dataframe to an interactive table.\"\n",
              "              style=\"display:none;\">\n",
              "        \n",
              "  <svg xmlns=\"http://www.w3.org/2000/svg\" height=\"24px\"viewBox=\"0 0 24 24\"\n",
              "       width=\"24px\">\n",
              "    <path d=\"M0 0h24v24H0V0z\" fill=\"none\"/>\n",
              "    <path d=\"M18.56 5.44l.94 2.06.94-2.06 2.06-.94-2.06-.94-.94-2.06-.94 2.06-2.06.94zm-11 1L8.5 8.5l.94-2.06 2.06-.94-2.06-.94L8.5 2.5l-.94 2.06-2.06.94zm10 10l.94 2.06.94-2.06 2.06-.94-2.06-.94-.94-2.06-.94 2.06-2.06.94z\"/><path d=\"M17.41 7.96l-1.37-1.37c-.4-.4-.92-.59-1.43-.59-.52 0-1.04.2-1.43.59L10.3 9.45l-7.72 7.72c-.78.78-.78 2.05 0 2.83L4 21.41c.39.39.9.59 1.41.59.51 0 1.02-.2 1.41-.59l7.78-7.78 2.81-2.81c.8-.78.8-2.07 0-2.86zM5.41 20L4 18.59l7.72-7.72 1.47 1.35L5.41 20z\"/>\n",
              "  </svg>\n",
              "      </button>\n",
              "      \n",
              "  <style>\n",
              "    .colab-df-container {\n",
              "      display:flex;\n",
              "      flex-wrap:wrap;\n",
              "      gap: 12px;\n",
              "    }\n",
              "\n",
              "    .colab-df-convert {\n",
              "      background-color: #E8F0FE;\n",
              "      border: none;\n",
              "      border-radius: 50%;\n",
              "      cursor: pointer;\n",
              "      display: none;\n",
              "      fill: #1967D2;\n",
              "      height: 32px;\n",
              "      padding: 0 0 0 0;\n",
              "      width: 32px;\n",
              "    }\n",
              "\n",
              "    .colab-df-convert:hover {\n",
              "      background-color: #E2EBFA;\n",
              "      box-shadow: 0px 1px 2px rgba(60, 64, 67, 0.3), 0px 1px 3px 1px rgba(60, 64, 67, 0.15);\n",
              "      fill: #174EA6;\n",
              "    }\n",
              "\n",
              "    [theme=dark] .colab-df-convert {\n",
              "      background-color: #3B4455;\n",
              "      fill: #D2E3FC;\n",
              "    }\n",
              "\n",
              "    [theme=dark] .colab-df-convert:hover {\n",
              "      background-color: #434B5C;\n",
              "      box-shadow: 0px 1px 3px 1px rgba(0, 0, 0, 0.15);\n",
              "      filter: drop-shadow(0px 1px 2px rgba(0, 0, 0, 0.3));\n",
              "      fill: #FFFFFF;\n",
              "    }\n",
              "  </style>\n",
              "\n",
              "      <script>\n",
              "        const buttonEl =\n",
              "          document.querySelector('#df-4945113f-9d5a-4d25-a5cc-5f4dde0698b5 button.colab-df-convert');\n",
              "        buttonEl.style.display =\n",
              "          google.colab.kernel.accessAllowed ? 'block' : 'none';\n",
              "\n",
              "        async function convertToInteractive(key) {\n",
              "          const element = document.querySelector('#df-4945113f-9d5a-4d25-a5cc-5f4dde0698b5');\n",
              "          const dataTable =\n",
              "            await google.colab.kernel.invokeFunction('convertToInteractive',\n",
              "                                                     [key], {});\n",
              "          if (!dataTable) return;\n",
              "\n",
              "          const docLinkHtml = 'Like what you see? Visit the ' +\n",
              "            '<a target=\"_blank\" href=https://colab.research.google.com/notebooks/data_table.ipynb>data table notebook</a>'\n",
              "            + ' to learn more about interactive tables.';\n",
              "          element.innerHTML = '';\n",
              "          dataTable['output_type'] = 'display_data';\n",
              "          await google.colab.output.renderOutput(dataTable, element);\n",
              "          const docLink = document.createElement('div');\n",
              "          docLink.innerHTML = docLinkHtml;\n",
              "          element.appendChild(docLink);\n",
              "        }\n",
              "      </script>\n",
              "    </div>\n",
              "  </div>\n",
              "  "
            ]
          },
          "metadata": {},
          "execution_count": 20
        }
      ]
    },
    {
      "cell_type": "code",
      "source": [],
      "metadata": {
        "id": "RO84AkHh_3yM"
      },
      "execution_count": 20,
      "outputs": []
    }
  ]
}