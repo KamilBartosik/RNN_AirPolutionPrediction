{
  "nbformat": 4,
  "nbformat_minor": 0,
  "metadata": {
    "colab": {
      "provenance": [],
      "collapsed_sections": [],
      "toc_visible": true,
      "authorship_tag": "ABX9TyO9hJOKSKQmuTisD7DOA4e2",
      "include_colab_link": true
    },
    "kernelspec": {
      "name": "python3",
      "display_name": "Python 3"
    },
    "language_info": {
      "name": "python"
    }
  },
  "cells": [
    {
      "cell_type": "markdown",
      "metadata": {
        "id": "view-in-github",
        "colab_type": "text"
      },
      "source": [
        "<a href=\"https://colab.research.google.com/github/KamilBartosik/RNN_AirPolutionPrediction/blob/main/RNN_AirPolutionData.ipynb\" target=\"_parent\"><img src=\"https://colab.research.google.com/assets/colab-badge.svg\" alt=\"Open In Colab\"/></a>"
      ]
    },
    {
      "cell_type": "markdown",
      "source": [
        "# Imports"
      ],
      "metadata": {
        "id": "zW8hTiPUDnIK"
      }
    },
    {
      "cell_type": "code",
      "execution_count": 1,
      "metadata": {
        "colab": {
          "base_uri": "https://localhost:8080/"
        },
        "id": "bCgREAP7TJgN",
        "outputId": "13f9bb1f-af89-4fb9-f554-0d5312c6c44c"
      },
      "outputs": [
        {
          "output_type": "stream",
          "name": "stdout",
          "text": [
            "Mounted at /content/gdrive\n"
          ]
        }
      ],
      "source": [
        "from google.colab import drive\n",
        "drive.mount('/content/gdrive')"
      ]
    },
    {
      "cell_type": "code",
      "source": [
        "import math\n",
        "import numpy as np\n",
        "import pandas as pd\n",
        "import matplotlib.pyplot as plt\n",
        "\n",
        "from sklearn.preprocessing import MinMaxScaler\n",
        "from sklearn.metrics import mean_squared_error, r2_score # or something else?\n",
        "\n",
        "from keras.models import Sequential\n",
        "from keras.layers import LSTM, GRU, Dense, Dropout\n",
        "from keras.callbacks import ModelCheckpoint, EarlyStopping, ReduceLROnPlateau # needed?"
      ],
      "metadata": {
        "id": "Gl7w8eFbTiwX"
      },
      "execution_count": 2,
      "outputs": []
    },
    {
      "cell_type": "code",
      "source": [
        "dataset_path = '/content/gdrive/MyDrive/MachineLearning/Datasets/Air_Pollution/Dataset.csv'\n",
        "df = pd.read_csv(dataset_path)"
      ],
      "metadata": {
        "id": "x_cdZRI3V_o2"
      },
      "execution_count": 3,
      "outputs": []
    },
    {
      "cell_type": "markdown",
      "source": [
        "# Data preprocessing"
      ],
      "metadata": {
        "id": "FgGYMO3XiRcR"
      }
    },
    {
      "cell_type": "code",
      "source": [
        "df.head()"
      ],
      "metadata": {
        "colab": {
          "base_uri": "https://localhost:8080/",
          "height": 206
        },
        "id": "gNe9s6cAWiLH",
        "outputId": "f416219b-8189-416d-a69a-4f81da1a7d48"
      },
      "execution_count": 4,
      "outputs": [
        {
          "output_type": "execute_result",
          "data": {
            "text/plain": [
              "          Date  Temperature   NOx Wind Direction Wind Speed PM2.5\n",
              "0  1/1/19 0:00         17.2  16.2             18          2    17\n",
              "1  1/1/19 1:00         17.2    17            357        2.2    20\n",
              "2  1/1/19 2:00         17.0  14.6             16        2.3    14\n",
              "3  1/1/19 3:00         16.8  12.8              6        2.7    15\n",
              "4  1/1/19 4:00         16.7  16.3             14        2.2    10"
            ],
            "text/html": [
              "\n",
              "  <div id=\"df-65be8291-3c57-4ed3-bbe2-eb9f3c2479de\">\n",
              "    <div class=\"colab-df-container\">\n",
              "      <div>\n",
              "<style scoped>\n",
              "    .dataframe tbody tr th:only-of-type {\n",
              "        vertical-align: middle;\n",
              "    }\n",
              "\n",
              "    .dataframe tbody tr th {\n",
              "        vertical-align: top;\n",
              "    }\n",
              "\n",
              "    .dataframe thead th {\n",
              "        text-align: right;\n",
              "    }\n",
              "</style>\n",
              "<table border=\"1\" class=\"dataframe\">\n",
              "  <thead>\n",
              "    <tr style=\"text-align: right;\">\n",
              "      <th></th>\n",
              "      <th>Date</th>\n",
              "      <th>Temperature</th>\n",
              "      <th>NOx</th>\n",
              "      <th>Wind Direction</th>\n",
              "      <th>Wind Speed</th>\n",
              "      <th>PM2.5</th>\n",
              "    </tr>\n",
              "  </thead>\n",
              "  <tbody>\n",
              "    <tr>\n",
              "      <th>0</th>\n",
              "      <td>1/1/19 0:00</td>\n",
              "      <td>17.2</td>\n",
              "      <td>16.2</td>\n",
              "      <td>18</td>\n",
              "      <td>2</td>\n",
              "      <td>17</td>\n",
              "    </tr>\n",
              "    <tr>\n",
              "      <th>1</th>\n",
              "      <td>1/1/19 1:00</td>\n",
              "      <td>17.2</td>\n",
              "      <td>17</td>\n",
              "      <td>357</td>\n",
              "      <td>2.2</td>\n",
              "      <td>20</td>\n",
              "    </tr>\n",
              "    <tr>\n",
              "      <th>2</th>\n",
              "      <td>1/1/19 2:00</td>\n",
              "      <td>17.0</td>\n",
              "      <td>14.6</td>\n",
              "      <td>16</td>\n",
              "      <td>2.3</td>\n",
              "      <td>14</td>\n",
              "    </tr>\n",
              "    <tr>\n",
              "      <th>3</th>\n",
              "      <td>1/1/19 3:00</td>\n",
              "      <td>16.8</td>\n",
              "      <td>12.8</td>\n",
              "      <td>6</td>\n",
              "      <td>2.7</td>\n",
              "      <td>15</td>\n",
              "    </tr>\n",
              "    <tr>\n",
              "      <th>4</th>\n",
              "      <td>1/1/19 4:00</td>\n",
              "      <td>16.7</td>\n",
              "      <td>16.3</td>\n",
              "      <td>14</td>\n",
              "      <td>2.2</td>\n",
              "      <td>10</td>\n",
              "    </tr>\n",
              "  </tbody>\n",
              "</table>\n",
              "</div>\n",
              "      <button class=\"colab-df-convert\" onclick=\"convertToInteractive('df-65be8291-3c57-4ed3-bbe2-eb9f3c2479de')\"\n",
              "              title=\"Convert this dataframe to an interactive table.\"\n",
              "              style=\"display:none;\">\n",
              "        \n",
              "  <svg xmlns=\"http://www.w3.org/2000/svg\" height=\"24px\"viewBox=\"0 0 24 24\"\n",
              "       width=\"24px\">\n",
              "    <path d=\"M0 0h24v24H0V0z\" fill=\"none\"/>\n",
              "    <path d=\"M18.56 5.44l.94 2.06.94-2.06 2.06-.94-2.06-.94-.94-2.06-.94 2.06-2.06.94zm-11 1L8.5 8.5l.94-2.06 2.06-.94-2.06-.94L8.5 2.5l-.94 2.06-2.06.94zm10 10l.94 2.06.94-2.06 2.06-.94-2.06-.94-.94-2.06-.94 2.06-2.06.94z\"/><path d=\"M17.41 7.96l-1.37-1.37c-.4-.4-.92-.59-1.43-.59-.52 0-1.04.2-1.43.59L10.3 9.45l-7.72 7.72c-.78.78-.78 2.05 0 2.83L4 21.41c.39.39.9.59 1.41.59.51 0 1.02-.2 1.41-.59l7.78-7.78 2.81-2.81c.8-.78.8-2.07 0-2.86zM5.41 20L4 18.59l7.72-7.72 1.47 1.35L5.41 20z\"/>\n",
              "  </svg>\n",
              "      </button>\n",
              "      \n",
              "  <style>\n",
              "    .colab-df-container {\n",
              "      display:flex;\n",
              "      flex-wrap:wrap;\n",
              "      gap: 12px;\n",
              "    }\n",
              "\n",
              "    .colab-df-convert {\n",
              "      background-color: #E8F0FE;\n",
              "      border: none;\n",
              "      border-radius: 50%;\n",
              "      cursor: pointer;\n",
              "      display: none;\n",
              "      fill: #1967D2;\n",
              "      height: 32px;\n",
              "      padding: 0 0 0 0;\n",
              "      width: 32px;\n",
              "    }\n",
              "\n",
              "    .colab-df-convert:hover {\n",
              "      background-color: #E2EBFA;\n",
              "      box-shadow: 0px 1px 2px rgba(60, 64, 67, 0.3), 0px 1px 3px 1px rgba(60, 64, 67, 0.15);\n",
              "      fill: #174EA6;\n",
              "    }\n",
              "\n",
              "    [theme=dark] .colab-df-convert {\n",
              "      background-color: #3B4455;\n",
              "      fill: #D2E3FC;\n",
              "    }\n",
              "\n",
              "    [theme=dark] .colab-df-convert:hover {\n",
              "      background-color: #434B5C;\n",
              "      box-shadow: 0px 1px 3px 1px rgba(0, 0, 0, 0.15);\n",
              "      filter: drop-shadow(0px 1px 2px rgba(0, 0, 0, 0.3));\n",
              "      fill: #FFFFFF;\n",
              "    }\n",
              "  </style>\n",
              "\n",
              "      <script>\n",
              "        const buttonEl =\n",
              "          document.querySelector('#df-65be8291-3c57-4ed3-bbe2-eb9f3c2479de button.colab-df-convert');\n",
              "        buttonEl.style.display =\n",
              "          google.colab.kernel.accessAllowed ? 'block' : 'none';\n",
              "\n",
              "        async function convertToInteractive(key) {\n",
              "          const element = document.querySelector('#df-65be8291-3c57-4ed3-bbe2-eb9f3c2479de');\n",
              "          const dataTable =\n",
              "            await google.colab.kernel.invokeFunction('convertToInteractive',\n",
              "                                                     [key], {});\n",
              "          if (!dataTable) return;\n",
              "\n",
              "          const docLinkHtml = 'Like what you see? Visit the ' +\n",
              "            '<a target=\"_blank\" href=https://colab.research.google.com/notebooks/data_table.ipynb>data table notebook</a>'\n",
              "            + ' to learn more about interactive tables.';\n",
              "          element.innerHTML = '';\n",
              "          dataTable['output_type'] = 'display_data';\n",
              "          await google.colab.output.renderOutput(dataTable, element);\n",
              "          const docLink = document.createElement('div');\n",
              "          docLink.innerHTML = docLinkHtml;\n",
              "          element.appendChild(docLink);\n",
              "        }\n",
              "      </script>\n",
              "    </div>\n",
              "  </div>\n",
              "  "
            ]
          },
          "metadata": {},
          "execution_count": 4
        }
      ]
    },
    {
      "cell_type": "code",
      "source": [
        "df.shape"
      ],
      "metadata": {
        "colab": {
          "base_uri": "https://localhost:8080/"
        },
        "id": "wTZrPBOoWlel",
        "outputId": "d342baef-f471-464a-fc5f-fdafd42e11c1"
      },
      "execution_count": 5,
      "outputs": [
        {
          "output_type": "execute_result",
          "data": {
            "text/plain": [
              "(1416, 6)"
            ]
          },
          "metadata": {},
          "execution_count": 5
        }
      ]
    },
    {
      "cell_type": "code",
      "source": [
        "df = df.iloc[:, 1:]"
      ],
      "metadata": {
        "id": "0y54lYD_-7ZP"
      },
      "execution_count": 234,
      "outputs": []
    },
    {
      "cell_type": "code",
      "source": [
        "df.info()"
      ],
      "metadata": {
        "colab": {
          "base_uri": "https://localhost:8080/"
        },
        "id": "x57XQpHsXxPN",
        "outputId": "8263198c-149b-4cab-e6ba-0053d5d6f2f3"
      },
      "execution_count": 235,
      "outputs": [
        {
          "output_type": "stream",
          "name": "stdout",
          "text": [
            "<class 'pandas.core.frame.DataFrame'>\n",
            "RangeIndex: 1416 entries, 0 to 1415\n",
            "Data columns (total 5 columns):\n",
            " #   Column          Non-Null Count  Dtype  \n",
            "---  ------          --------------  -----  \n",
            " 0   Temperature     1416 non-null   float64\n",
            " 1   NOx             1416 non-null   float64\n",
            " 2   Wind Direction  1416 non-null   int64  \n",
            " 3   Wind Speed      1416 non-null   float64\n",
            " 4   PM2.5           1416 non-null   int64  \n",
            "dtypes: float64(3), int64(2)\n",
            "memory usage: 55.4 KB\n"
          ]
        }
      ]
    },
    {
      "cell_type": "code",
      "source": [
        "wrong_NOx = []\n",
        "wrong_WD = []\n",
        "wrong_WS = []\n",
        "wrong_PM = []\n",
        "\n",
        "def check_wrong_values(column, values):\n",
        "  \n",
        "  for i in range(len(df)):\n",
        "    try:\n",
        "      df.loc[i, column] = float(df.loc[i, column])\n",
        "    except:\n",
        "      values.append(i)"
      ],
      "metadata": {
        "id": "xWwmIWCh2WOr"
      },
      "execution_count": 237,
      "outputs": []
    },
    {
      "cell_type": "code",
      "source": [
        "def display_examples(column, values, ex_11, ex_12, ex_21, ex_22):\n",
        "  \n",
        "  print('Wrong values:')\n",
        "  print(df.loc[values, column])\n",
        "\n",
        "  print('\\nHow value(s) of 1st example look among neighbours:\\n')\n",
        "  print(df.loc[ex_11:ex_12, column])\n",
        "\n",
        "  print('\\nHow value(s) of 2nd example look among neighbours:\\n')\n",
        "  print(df.loc[ex_21:ex_22, column])"
      ],
      "metadata": {
        "id": "PAE9gv_g5K_7"
      },
      "execution_count": 238,
      "outputs": []
    },
    {
      "cell_type": "code",
      "source": [
        "check_wrong_values('NOx', wrong_NOx)"
      ],
      "metadata": {
        "id": "APFBwe6HcLP8"
      },
      "execution_count": 239,
      "outputs": []
    },
    {
      "cell_type": "code",
      "source": [
        "display_examples('NOx', wrong_NOx, 157, 163, 1258, 1267)"
      ],
      "metadata": {
        "colab": {
          "base_uri": "https://localhost:8080/"
        },
        "id": "66vSHJBb5l9B",
        "outputId": "469211a0-e998-4603-90a3-95453537d7d6"
      },
      "execution_count": 240,
      "outputs": [
        {
          "output_type": "stream",
          "name": "stdout",
          "text": [
            "Wrong values:\n",
            "Series([], Name: NOx, dtype: float64)\n",
            "\n",
            "How value(s) of 1st example look among neighbours:\n",
            "\n",
            "157    12.8\n",
            "158    13.0\n",
            "159    13.1\n",
            "160    16.1\n",
            "161    23.0\n",
            "162    21.6\n",
            "163    15.0\n",
            "Name: NOx, dtype: float64\n",
            "\n",
            "How value(s) of 2nd example look among neighbours:\n",
            "\n",
            "1258    15.1\n",
            "1259    14.0\n",
            "1260    10.6\n",
            "1261     9.1\n",
            "1262     8.1\n",
            "1263     8.5\n",
            "1264    12.4\n",
            "1265    11.6\n",
            "1266    10.9\n",
            "1267    12.5\n",
            "Name: NOx, dtype: float64\n"
          ]
        }
      ]
    },
    {
      "cell_type": "code",
      "source": [
        "check_wrong_values('Wind Direction', wrong_WD)"
      ],
      "metadata": {
        "id": "ggw4LfXl4Hu4"
      },
      "execution_count": 241,
      "outputs": []
    },
    {
      "cell_type": "code",
      "source": [
        "display_examples('Wind Direction', wrong_WD, 417, 423, 1089, 1095)"
      ],
      "metadata": {
        "colab": {
          "base_uri": "https://localhost:8080/"
        },
        "id": "bKZGIEl3dboG",
        "outputId": "80d9eae9-cbce-4732-d08b-20d09e62ba2c"
      },
      "execution_count": 242,
      "outputs": [
        {
          "output_type": "stream",
          "name": "stdout",
          "text": [
            "Wrong values:\n",
            "Series([], Name: Wind Direction, dtype: int64)\n",
            "\n",
            "How value(s) of 1st example look among neighbours:\n",
            "\n",
            "417    268\n",
            "418    344\n",
            "419    312\n",
            "420    295\n",
            "421    299\n",
            "422    301\n",
            "423    302\n",
            "Name: Wind Direction, dtype: int64\n",
            "\n",
            "How value(s) of 2nd example look among neighbours:\n",
            "\n",
            "1089     17\n",
            "1090    338\n",
            "1091     31\n",
            "1092      0\n",
            "1093    284\n",
            "1094    221\n",
            "1095    256\n",
            "Name: Wind Direction, dtype: int64\n"
          ]
        }
      ]
    },
    {
      "cell_type": "code",
      "source": [
        "check_wrong_values('Wind Speed', wrong_WS)"
      ],
      "metadata": {
        "id": "aaZ6vjiH4TvO"
      },
      "execution_count": 243,
      "outputs": []
    },
    {
      "cell_type": "code",
      "source": [
        "display_examples('Wind Speed', wrong_WS, 417, 423, 1089, 1095)"
      ],
      "metadata": {
        "colab": {
          "base_uri": "https://localhost:8080/"
        },
        "id": "DDLHj5ZU1qfM",
        "outputId": "27fafd40-5a2b-4edd-dcf5-823be48118a3"
      },
      "execution_count": 244,
      "outputs": [
        {
          "output_type": "stream",
          "name": "stdout",
          "text": [
            "Wrong values:\n",
            "Series([], Name: Wind Speed, dtype: float64)\n",
            "\n",
            "How value(s) of 1st example look among neighbours:\n",
            "\n",
            "417    1.4\n",
            "418    1.6\n",
            "419    2.1\n",
            "420    1.6\n",
            "421    2.5\n",
            "422    2.5\n",
            "423    2.5\n",
            "Name: Wind Speed, dtype: float64\n",
            "\n",
            "How value(s) of 2nd example look among neighbours:\n",
            "\n",
            "1089    2.1\n",
            "1090    2.7\n",
            "1091    1.5\n",
            "1092    0.0\n",
            "1093    1.7\n",
            "1094    3.9\n",
            "1095    2.4\n",
            "Name: Wind Speed, dtype: float64\n"
          ]
        }
      ]
    },
    {
      "cell_type": "code",
      "source": [
        "check_wrong_values('PM2.5', wrong_PM)"
      ],
      "metadata": {
        "id": "Bj15Wrtb4l4i"
      },
      "execution_count": 245,
      "outputs": []
    },
    {
      "cell_type": "code",
      "source": [
        "print('Wrong values:')\n",
        "print(df.loc[wrong_PM, 'PM2.5'])"
      ],
      "metadata": {
        "colab": {
          "base_uri": "https://localhost:8080/"
        },
        "id": "4iAnjuy24l9v",
        "outputId": "977101bf-c4ff-4039-9c8f-c58d96ec7e0c"
      },
      "execution_count": 246,
      "outputs": [
        {
          "output_type": "stream",
          "name": "stdout",
          "text": [
            "Wrong values:\n",
            "Series([], Name: PM2.5, dtype: int64)\n"
          ]
        }
      ]
    },
    {
      "cell_type": "code",
      "source": [
        "def replace_hashes(column, values):\n",
        "  \n",
        "  for i in values:\n",
        "    df.loc[i, column] = df.loc[i, column].replace(\"#\", \"\")\n",
        "\n",
        "replace_hashes('NOx', wrong_NOx)\n",
        "replace_hashes('Wind Direction', wrong_WD)\n",
        "replace_hashes('Wind Speed', wrong_WS)"
      ],
      "metadata": {
        "id": "E3ctXuxI-Ync"
      },
      "execution_count": 247,
      "outputs": []
    },
    {
      "cell_type": "code",
      "source": [
        "for i in wrong_PM:\n",
        "  try:\n",
        "    df.loc[i, 'PM2.5'] = int( (df.loc[i-1, 'PM2.5'] + df.loc[i+1, 'PM2.5']) / 2 )\n",
        "  except:\n",
        "    df.loc[i, 'PM2.5'] = int(df.loc[i-1, 'PM2.5'])"
      ],
      "metadata": {
        "id": "Nf5aahVXhCzP"
      },
      "execution_count": 248,
      "outputs": []
    },
    {
      "cell_type": "code",
      "source": [
        "print(df.loc[wrong_PM, 'PM2.5'])"
      ],
      "metadata": {
        "colab": {
          "base_uri": "https://localhost:8080/"
        },
        "id": "28eniX07fCeR",
        "outputId": "b03b7c49-abdf-4b32-c7b6-52a7dda7ceab"
      },
      "execution_count": 249,
      "outputs": [
        {
          "output_type": "stream",
          "name": "stdout",
          "text": [
            "Series([], Name: PM2.5, dtype: int64)\n"
          ]
        }
      ]
    },
    {
      "cell_type": "code",
      "source": [
        "df = df.astype({'NOx':'float', 'Wind Direction':'int', 'Wind Speed':'float', 'PM2.5':'int'})"
      ],
      "metadata": {
        "id": "VKAlsKEg_ysN"
      },
      "execution_count": 250,
      "outputs": []
    },
    {
      "cell_type": "code",
      "source": [
        "df.info()"
      ],
      "metadata": {
        "colab": {
          "base_uri": "https://localhost:8080/"
        },
        "id": "VyKpGuGU_3uM",
        "outputId": "e3015903-5549-403c-9283-8be06ca573b2"
      },
      "execution_count": 251,
      "outputs": [
        {
          "output_type": "stream",
          "name": "stdout",
          "text": [
            "<class 'pandas.core.frame.DataFrame'>\n",
            "RangeIndex: 1416 entries, 0 to 1415\n",
            "Data columns (total 5 columns):\n",
            " #   Column          Non-Null Count  Dtype  \n",
            "---  ------          --------------  -----  \n",
            " 0   Temperature     1416 non-null   float64\n",
            " 1   NOx             1416 non-null   float64\n",
            " 2   Wind Direction  1416 non-null   int64  \n",
            " 3   Wind Speed      1416 non-null   float64\n",
            " 4   PM2.5           1416 non-null   int64  \n",
            "dtypes: float64(3), int64(2)\n",
            "memory usage: 55.4 KB\n"
          ]
        }
      ]
    },
    {
      "cell_type": "code",
      "source": [
        "df.describe()"
      ],
      "metadata": {
        "colab": {
          "base_uri": "https://localhost:8080/",
          "height": 300
        },
        "id": "CgnunX-2_3wc",
        "outputId": "ce8394f1-f5b9-4422-f699-b8e3cc1a6ea3"
      },
      "execution_count": 252,
      "outputs": [
        {
          "output_type": "execute_result",
          "data": {
            "text/plain": [
              "       Temperature          NOx  Wind Direction   Wind Speed        PM2.5\n",
              "count  1416.000000  1416.000000     1416.000000  1416.000000  1416.000000\n",
              "mean     20.950282    19.421398      116.644774     2.450777    33.048729\n",
              "std       3.438216     8.622356      141.731594     0.801641    17.385011\n",
              "min      12.000000     5.700000        0.000000     0.000000     1.000000\n",
              "25%      18.700000    13.600000       13.000000     1.900000    21.000000\n",
              "50%      20.500000    17.300000       24.000000     2.500000    30.000000\n",
              "75%      23.400000    23.000000      301.000000     3.000000    42.000000\n",
              "max      30.500000    73.100000      360.000000     4.800000   108.000000"
            ],
            "text/html": [
              "\n",
              "  <div id=\"df-1484e44d-53a9-4991-87f7-6389d648bfb8\">\n",
              "    <div class=\"colab-df-container\">\n",
              "      <div>\n",
              "<style scoped>\n",
              "    .dataframe tbody tr th:only-of-type {\n",
              "        vertical-align: middle;\n",
              "    }\n",
              "\n",
              "    .dataframe tbody tr th {\n",
              "        vertical-align: top;\n",
              "    }\n",
              "\n",
              "    .dataframe thead th {\n",
              "        text-align: right;\n",
              "    }\n",
              "</style>\n",
              "<table border=\"1\" class=\"dataframe\">\n",
              "  <thead>\n",
              "    <tr style=\"text-align: right;\">\n",
              "      <th></th>\n",
              "      <th>Temperature</th>\n",
              "      <th>NOx</th>\n",
              "      <th>Wind Direction</th>\n",
              "      <th>Wind Speed</th>\n",
              "      <th>PM2.5</th>\n",
              "    </tr>\n",
              "  </thead>\n",
              "  <tbody>\n",
              "    <tr>\n",
              "      <th>count</th>\n",
              "      <td>1416.000000</td>\n",
              "      <td>1416.000000</td>\n",
              "      <td>1416.000000</td>\n",
              "      <td>1416.000000</td>\n",
              "      <td>1416.000000</td>\n",
              "    </tr>\n",
              "    <tr>\n",
              "      <th>mean</th>\n",
              "      <td>20.950282</td>\n",
              "      <td>19.421398</td>\n",
              "      <td>116.644774</td>\n",
              "      <td>2.450777</td>\n",
              "      <td>33.048729</td>\n",
              "    </tr>\n",
              "    <tr>\n",
              "      <th>std</th>\n",
              "      <td>3.438216</td>\n",
              "      <td>8.622356</td>\n",
              "      <td>141.731594</td>\n",
              "      <td>0.801641</td>\n",
              "      <td>17.385011</td>\n",
              "    </tr>\n",
              "    <tr>\n",
              "      <th>min</th>\n",
              "      <td>12.000000</td>\n",
              "      <td>5.700000</td>\n",
              "      <td>0.000000</td>\n",
              "      <td>0.000000</td>\n",
              "      <td>1.000000</td>\n",
              "    </tr>\n",
              "    <tr>\n",
              "      <th>25%</th>\n",
              "      <td>18.700000</td>\n",
              "      <td>13.600000</td>\n",
              "      <td>13.000000</td>\n",
              "      <td>1.900000</td>\n",
              "      <td>21.000000</td>\n",
              "    </tr>\n",
              "    <tr>\n",
              "      <th>50%</th>\n",
              "      <td>20.500000</td>\n",
              "      <td>17.300000</td>\n",
              "      <td>24.000000</td>\n",
              "      <td>2.500000</td>\n",
              "      <td>30.000000</td>\n",
              "    </tr>\n",
              "    <tr>\n",
              "      <th>75%</th>\n",
              "      <td>23.400000</td>\n",
              "      <td>23.000000</td>\n",
              "      <td>301.000000</td>\n",
              "      <td>3.000000</td>\n",
              "      <td>42.000000</td>\n",
              "    </tr>\n",
              "    <tr>\n",
              "      <th>max</th>\n",
              "      <td>30.500000</td>\n",
              "      <td>73.100000</td>\n",
              "      <td>360.000000</td>\n",
              "      <td>4.800000</td>\n",
              "      <td>108.000000</td>\n",
              "    </tr>\n",
              "  </tbody>\n",
              "</table>\n",
              "</div>\n",
              "      <button class=\"colab-df-convert\" onclick=\"convertToInteractive('df-1484e44d-53a9-4991-87f7-6389d648bfb8')\"\n",
              "              title=\"Convert this dataframe to an interactive table.\"\n",
              "              style=\"display:none;\">\n",
              "        \n",
              "  <svg xmlns=\"http://www.w3.org/2000/svg\" height=\"24px\"viewBox=\"0 0 24 24\"\n",
              "       width=\"24px\">\n",
              "    <path d=\"M0 0h24v24H0V0z\" fill=\"none\"/>\n",
              "    <path d=\"M18.56 5.44l.94 2.06.94-2.06 2.06-.94-2.06-.94-.94-2.06-.94 2.06-2.06.94zm-11 1L8.5 8.5l.94-2.06 2.06-.94-2.06-.94L8.5 2.5l-.94 2.06-2.06.94zm10 10l.94 2.06.94-2.06 2.06-.94-2.06-.94-.94-2.06-.94 2.06-2.06.94z\"/><path d=\"M17.41 7.96l-1.37-1.37c-.4-.4-.92-.59-1.43-.59-.52 0-1.04.2-1.43.59L10.3 9.45l-7.72 7.72c-.78.78-.78 2.05 0 2.83L4 21.41c.39.39.9.59 1.41.59.51 0 1.02-.2 1.41-.59l7.78-7.78 2.81-2.81c.8-.78.8-2.07 0-2.86zM5.41 20L4 18.59l7.72-7.72 1.47 1.35L5.41 20z\"/>\n",
              "  </svg>\n",
              "      </button>\n",
              "      \n",
              "  <style>\n",
              "    .colab-df-container {\n",
              "      display:flex;\n",
              "      flex-wrap:wrap;\n",
              "      gap: 12px;\n",
              "    }\n",
              "\n",
              "    .colab-df-convert {\n",
              "      background-color: #E8F0FE;\n",
              "      border: none;\n",
              "      border-radius: 50%;\n",
              "      cursor: pointer;\n",
              "      display: none;\n",
              "      fill: #1967D2;\n",
              "      height: 32px;\n",
              "      padding: 0 0 0 0;\n",
              "      width: 32px;\n",
              "    }\n",
              "\n",
              "    .colab-df-convert:hover {\n",
              "      background-color: #E2EBFA;\n",
              "      box-shadow: 0px 1px 2px rgba(60, 64, 67, 0.3), 0px 1px 3px 1px rgba(60, 64, 67, 0.15);\n",
              "      fill: #174EA6;\n",
              "    }\n",
              "\n",
              "    [theme=dark] .colab-df-convert {\n",
              "      background-color: #3B4455;\n",
              "      fill: #D2E3FC;\n",
              "    }\n",
              "\n",
              "    [theme=dark] .colab-df-convert:hover {\n",
              "      background-color: #434B5C;\n",
              "      box-shadow: 0px 1px 3px 1px rgba(0, 0, 0, 0.15);\n",
              "      filter: drop-shadow(0px 1px 2px rgba(0, 0, 0, 0.3));\n",
              "      fill: #FFFFFF;\n",
              "    }\n",
              "  </style>\n",
              "\n",
              "      <script>\n",
              "        const buttonEl =\n",
              "          document.querySelector('#df-1484e44d-53a9-4991-87f7-6389d648bfb8 button.colab-df-convert');\n",
              "        buttonEl.style.display =\n",
              "          google.colab.kernel.accessAllowed ? 'block' : 'none';\n",
              "\n",
              "        async function convertToInteractive(key) {\n",
              "          const element = document.querySelector('#df-1484e44d-53a9-4991-87f7-6389d648bfb8');\n",
              "          const dataTable =\n",
              "            await google.colab.kernel.invokeFunction('convertToInteractive',\n",
              "                                                     [key], {});\n",
              "          if (!dataTable) return;\n",
              "\n",
              "          const docLinkHtml = 'Like what you see? Visit the ' +\n",
              "            '<a target=\"_blank\" href=https://colab.research.google.com/notebooks/data_table.ipynb>data table notebook</a>'\n",
              "            + ' to learn more about interactive tables.';\n",
              "          element.innerHTML = '';\n",
              "          dataTable['output_type'] = 'display_data';\n",
              "          await google.colab.output.renderOutput(dataTable, element);\n",
              "          const docLink = document.createElement('div');\n",
              "          docLink.innerHTML = docLinkHtml;\n",
              "          element.appendChild(docLink);\n",
              "        }\n",
              "      </script>\n",
              "    </div>\n",
              "  </div>\n",
              "  "
            ]
          },
          "metadata": {},
          "execution_count": 252
        }
      ]
    },
    {
      "cell_type": "markdown",
      "source": [
        "# Preparing data for training"
      ],
      "metadata": {
        "id": "Q8yYTf_UmuMQ"
      }
    },
    {
      "cell_type": "markdown",
      "source": [
        "## Creating train and test sets"
      ],
      "metadata": {
        "id": "6XOY67ahzcF4"
      }
    },
    {
      "cell_type": "code",
      "source": [
        "train_set_size = 0.9\n",
        "train_set_size = int( train_set_size*len(df) )"
      ],
      "metadata": {
        "id": "q-K0rgWcmvMX"
      },
      "execution_count": 253,
      "outputs": []
    },
    {
      "cell_type": "code",
      "source": [
        "train_set = df.iloc[0:train_set_size, :]\n",
        "test_set = df.iloc[train_set_size:, -1:].reset_index(drop=True)"
      ],
      "metadata": {
        "id": "5fy7pErdQPjE"
      },
      "execution_count": 254,
      "outputs": []
    },
    {
      "cell_type": "code",
      "source": [
        "train_set"
      ],
      "metadata": {
        "colab": {
          "base_uri": "https://localhost:8080/",
          "height": 424
        },
        "id": "0V_a2h2hQQ9N",
        "outputId": "c5a661e8-5174-4544-d58a-9b50aee9d2a9"
      },
      "execution_count": 255,
      "outputs": [
        {
          "output_type": "execute_result",
          "data": {
            "text/plain": [
              "      Temperature   NOx  Wind Direction  Wind Speed  PM2.5\n",
              "0            17.2  16.2              18         2.0     17\n",
              "1            17.2  17.0             357         2.2     20\n",
              "2            17.0  14.6              16         2.3     14\n",
              "3            16.8  12.8               6         2.7     15\n",
              "4            16.7  16.3              14         2.2     10\n",
              "...           ...   ...             ...         ...    ...\n",
              "1269         19.2  15.4             353         2.5     21\n",
              "1270         18.9  18.1             358         2.8     28\n",
              "1271         18.6  21.8              14         2.7     24\n",
              "1272         18.4  20.9               5         3.1     23\n",
              "1273         18.1  16.4             358         3.7     15\n",
              "\n",
              "[1274 rows x 5 columns]"
            ],
            "text/html": [
              "\n",
              "  <div id=\"df-3dceacf8-3577-4b19-adb7-1031e28cda9d\">\n",
              "    <div class=\"colab-df-container\">\n",
              "      <div>\n",
              "<style scoped>\n",
              "    .dataframe tbody tr th:only-of-type {\n",
              "        vertical-align: middle;\n",
              "    }\n",
              "\n",
              "    .dataframe tbody tr th {\n",
              "        vertical-align: top;\n",
              "    }\n",
              "\n",
              "    .dataframe thead th {\n",
              "        text-align: right;\n",
              "    }\n",
              "</style>\n",
              "<table border=\"1\" class=\"dataframe\">\n",
              "  <thead>\n",
              "    <tr style=\"text-align: right;\">\n",
              "      <th></th>\n",
              "      <th>Temperature</th>\n",
              "      <th>NOx</th>\n",
              "      <th>Wind Direction</th>\n",
              "      <th>Wind Speed</th>\n",
              "      <th>PM2.5</th>\n",
              "    </tr>\n",
              "  </thead>\n",
              "  <tbody>\n",
              "    <tr>\n",
              "      <th>0</th>\n",
              "      <td>17.2</td>\n",
              "      <td>16.2</td>\n",
              "      <td>18</td>\n",
              "      <td>2.0</td>\n",
              "      <td>17</td>\n",
              "    </tr>\n",
              "    <tr>\n",
              "      <th>1</th>\n",
              "      <td>17.2</td>\n",
              "      <td>17.0</td>\n",
              "      <td>357</td>\n",
              "      <td>2.2</td>\n",
              "      <td>20</td>\n",
              "    </tr>\n",
              "    <tr>\n",
              "      <th>2</th>\n",
              "      <td>17.0</td>\n",
              "      <td>14.6</td>\n",
              "      <td>16</td>\n",
              "      <td>2.3</td>\n",
              "      <td>14</td>\n",
              "    </tr>\n",
              "    <tr>\n",
              "      <th>3</th>\n",
              "      <td>16.8</td>\n",
              "      <td>12.8</td>\n",
              "      <td>6</td>\n",
              "      <td>2.7</td>\n",
              "      <td>15</td>\n",
              "    </tr>\n",
              "    <tr>\n",
              "      <th>4</th>\n",
              "      <td>16.7</td>\n",
              "      <td>16.3</td>\n",
              "      <td>14</td>\n",
              "      <td>2.2</td>\n",
              "      <td>10</td>\n",
              "    </tr>\n",
              "    <tr>\n",
              "      <th>...</th>\n",
              "      <td>...</td>\n",
              "      <td>...</td>\n",
              "      <td>...</td>\n",
              "      <td>...</td>\n",
              "      <td>...</td>\n",
              "    </tr>\n",
              "    <tr>\n",
              "      <th>1269</th>\n",
              "      <td>19.2</td>\n",
              "      <td>15.4</td>\n",
              "      <td>353</td>\n",
              "      <td>2.5</td>\n",
              "      <td>21</td>\n",
              "    </tr>\n",
              "    <tr>\n",
              "      <th>1270</th>\n",
              "      <td>18.9</td>\n",
              "      <td>18.1</td>\n",
              "      <td>358</td>\n",
              "      <td>2.8</td>\n",
              "      <td>28</td>\n",
              "    </tr>\n",
              "    <tr>\n",
              "      <th>1271</th>\n",
              "      <td>18.6</td>\n",
              "      <td>21.8</td>\n",
              "      <td>14</td>\n",
              "      <td>2.7</td>\n",
              "      <td>24</td>\n",
              "    </tr>\n",
              "    <tr>\n",
              "      <th>1272</th>\n",
              "      <td>18.4</td>\n",
              "      <td>20.9</td>\n",
              "      <td>5</td>\n",
              "      <td>3.1</td>\n",
              "      <td>23</td>\n",
              "    </tr>\n",
              "    <tr>\n",
              "      <th>1273</th>\n",
              "      <td>18.1</td>\n",
              "      <td>16.4</td>\n",
              "      <td>358</td>\n",
              "      <td>3.7</td>\n",
              "      <td>15</td>\n",
              "    </tr>\n",
              "  </tbody>\n",
              "</table>\n",
              "<p>1274 rows × 5 columns</p>\n",
              "</div>\n",
              "      <button class=\"colab-df-convert\" onclick=\"convertToInteractive('df-3dceacf8-3577-4b19-adb7-1031e28cda9d')\"\n",
              "              title=\"Convert this dataframe to an interactive table.\"\n",
              "              style=\"display:none;\">\n",
              "        \n",
              "  <svg xmlns=\"http://www.w3.org/2000/svg\" height=\"24px\"viewBox=\"0 0 24 24\"\n",
              "       width=\"24px\">\n",
              "    <path d=\"M0 0h24v24H0V0z\" fill=\"none\"/>\n",
              "    <path d=\"M18.56 5.44l.94 2.06.94-2.06 2.06-.94-2.06-.94-.94-2.06-.94 2.06-2.06.94zm-11 1L8.5 8.5l.94-2.06 2.06-.94-2.06-.94L8.5 2.5l-.94 2.06-2.06.94zm10 10l.94 2.06.94-2.06 2.06-.94-2.06-.94-.94-2.06-.94 2.06-2.06.94z\"/><path d=\"M17.41 7.96l-1.37-1.37c-.4-.4-.92-.59-1.43-.59-.52 0-1.04.2-1.43.59L10.3 9.45l-7.72 7.72c-.78.78-.78 2.05 0 2.83L4 21.41c.39.39.9.59 1.41.59.51 0 1.02-.2 1.41-.59l7.78-7.78 2.81-2.81c.8-.78.8-2.07 0-2.86zM5.41 20L4 18.59l7.72-7.72 1.47 1.35L5.41 20z\"/>\n",
              "  </svg>\n",
              "      </button>\n",
              "      \n",
              "  <style>\n",
              "    .colab-df-container {\n",
              "      display:flex;\n",
              "      flex-wrap:wrap;\n",
              "      gap: 12px;\n",
              "    }\n",
              "\n",
              "    .colab-df-convert {\n",
              "      background-color: #E8F0FE;\n",
              "      border: none;\n",
              "      border-radius: 50%;\n",
              "      cursor: pointer;\n",
              "      display: none;\n",
              "      fill: #1967D2;\n",
              "      height: 32px;\n",
              "      padding: 0 0 0 0;\n",
              "      width: 32px;\n",
              "    }\n",
              "\n",
              "    .colab-df-convert:hover {\n",
              "      background-color: #E2EBFA;\n",
              "      box-shadow: 0px 1px 2px rgba(60, 64, 67, 0.3), 0px 1px 3px 1px rgba(60, 64, 67, 0.15);\n",
              "      fill: #174EA6;\n",
              "    }\n",
              "\n",
              "    [theme=dark] .colab-df-convert {\n",
              "      background-color: #3B4455;\n",
              "      fill: #D2E3FC;\n",
              "    }\n",
              "\n",
              "    [theme=dark] .colab-df-convert:hover {\n",
              "      background-color: #434B5C;\n",
              "      box-shadow: 0px 1px 3px 1px rgba(0, 0, 0, 0.15);\n",
              "      filter: drop-shadow(0px 1px 2px rgba(0, 0, 0, 0.3));\n",
              "      fill: #FFFFFF;\n",
              "    }\n",
              "  </style>\n",
              "\n",
              "      <script>\n",
              "        const buttonEl =\n",
              "          document.querySelector('#df-3dceacf8-3577-4b19-adb7-1031e28cda9d button.colab-df-convert');\n",
              "        buttonEl.style.display =\n",
              "          google.colab.kernel.accessAllowed ? 'block' : 'none';\n",
              "\n",
              "        async function convertToInteractive(key) {\n",
              "          const element = document.querySelector('#df-3dceacf8-3577-4b19-adb7-1031e28cda9d');\n",
              "          const dataTable =\n",
              "            await google.colab.kernel.invokeFunction('convertToInteractive',\n",
              "                                                     [key], {});\n",
              "          if (!dataTable) return;\n",
              "\n",
              "          const docLinkHtml = 'Like what you see? Visit the ' +\n",
              "            '<a target=\"_blank\" href=https://colab.research.google.com/notebooks/data_table.ipynb>data table notebook</a>'\n",
              "            + ' to learn more about interactive tables.';\n",
              "          element.innerHTML = '';\n",
              "          dataTable['output_type'] = 'display_data';\n",
              "          await google.colab.output.renderOutput(dataTable, element);\n",
              "          const docLink = document.createElement('div');\n",
              "          docLink.innerHTML = docLinkHtml;\n",
              "          element.appendChild(docLink);\n",
              "        }\n",
              "      </script>\n",
              "    </div>\n",
              "  </div>\n",
              "  "
            ]
          },
          "metadata": {},
          "execution_count": 255
        }
      ]
    },
    {
      "cell_type": "code",
      "source": [
        "test_set"
      ],
      "metadata": {
        "colab": {
          "base_uri": "https://localhost:8080/",
          "height": 424
        },
        "id": "8y-yI33HQi5c",
        "outputId": "905aa97d-6c8c-4cb9-8f4f-4deeea30138c"
      },
      "execution_count": 256,
      "outputs": [
        {
          "output_type": "execute_result",
          "data": {
            "text/plain": [
              "     PM2.5\n",
              "0       11\n",
              "1        9\n",
              "2       10\n",
              "3       15\n",
              "4       20\n",
              "..     ...\n",
              "137     26\n",
              "138     23\n",
              "139     24\n",
              "140     26\n",
              "141     25\n",
              "\n",
              "[142 rows x 1 columns]"
            ],
            "text/html": [
              "\n",
              "  <div id=\"df-66f482f2-7556-44ca-a7d8-8d924de1c659\">\n",
              "    <div class=\"colab-df-container\">\n",
              "      <div>\n",
              "<style scoped>\n",
              "    .dataframe tbody tr th:only-of-type {\n",
              "        vertical-align: middle;\n",
              "    }\n",
              "\n",
              "    .dataframe tbody tr th {\n",
              "        vertical-align: top;\n",
              "    }\n",
              "\n",
              "    .dataframe thead th {\n",
              "        text-align: right;\n",
              "    }\n",
              "</style>\n",
              "<table border=\"1\" class=\"dataframe\">\n",
              "  <thead>\n",
              "    <tr style=\"text-align: right;\">\n",
              "      <th></th>\n",
              "      <th>PM2.5</th>\n",
              "    </tr>\n",
              "  </thead>\n",
              "  <tbody>\n",
              "    <tr>\n",
              "      <th>0</th>\n",
              "      <td>11</td>\n",
              "    </tr>\n",
              "    <tr>\n",
              "      <th>1</th>\n",
              "      <td>9</td>\n",
              "    </tr>\n",
              "    <tr>\n",
              "      <th>2</th>\n",
              "      <td>10</td>\n",
              "    </tr>\n",
              "    <tr>\n",
              "      <th>3</th>\n",
              "      <td>15</td>\n",
              "    </tr>\n",
              "    <tr>\n",
              "      <th>4</th>\n",
              "      <td>20</td>\n",
              "    </tr>\n",
              "    <tr>\n",
              "      <th>...</th>\n",
              "      <td>...</td>\n",
              "    </tr>\n",
              "    <tr>\n",
              "      <th>137</th>\n",
              "      <td>26</td>\n",
              "    </tr>\n",
              "    <tr>\n",
              "      <th>138</th>\n",
              "      <td>23</td>\n",
              "    </tr>\n",
              "    <tr>\n",
              "      <th>139</th>\n",
              "      <td>24</td>\n",
              "    </tr>\n",
              "    <tr>\n",
              "      <th>140</th>\n",
              "      <td>26</td>\n",
              "    </tr>\n",
              "    <tr>\n",
              "      <th>141</th>\n",
              "      <td>25</td>\n",
              "    </tr>\n",
              "  </tbody>\n",
              "</table>\n",
              "<p>142 rows × 1 columns</p>\n",
              "</div>\n",
              "      <button class=\"colab-df-convert\" onclick=\"convertToInteractive('df-66f482f2-7556-44ca-a7d8-8d924de1c659')\"\n",
              "              title=\"Convert this dataframe to an interactive table.\"\n",
              "              style=\"display:none;\">\n",
              "        \n",
              "  <svg xmlns=\"http://www.w3.org/2000/svg\" height=\"24px\"viewBox=\"0 0 24 24\"\n",
              "       width=\"24px\">\n",
              "    <path d=\"M0 0h24v24H0V0z\" fill=\"none\"/>\n",
              "    <path d=\"M18.56 5.44l.94 2.06.94-2.06 2.06-.94-2.06-.94-.94-2.06-.94 2.06-2.06.94zm-11 1L8.5 8.5l.94-2.06 2.06-.94-2.06-.94L8.5 2.5l-.94 2.06-2.06.94zm10 10l.94 2.06.94-2.06 2.06-.94-2.06-.94-.94-2.06-.94 2.06-2.06.94z\"/><path d=\"M17.41 7.96l-1.37-1.37c-.4-.4-.92-.59-1.43-.59-.52 0-1.04.2-1.43.59L10.3 9.45l-7.72 7.72c-.78.78-.78 2.05 0 2.83L4 21.41c.39.39.9.59 1.41.59.51 0 1.02-.2 1.41-.59l7.78-7.78 2.81-2.81c.8-.78.8-2.07 0-2.86zM5.41 20L4 18.59l7.72-7.72 1.47 1.35L5.41 20z\"/>\n",
              "  </svg>\n",
              "      </button>\n",
              "      \n",
              "  <style>\n",
              "    .colab-df-container {\n",
              "      display:flex;\n",
              "      flex-wrap:wrap;\n",
              "      gap: 12px;\n",
              "    }\n",
              "\n",
              "    .colab-df-convert {\n",
              "      background-color: #E8F0FE;\n",
              "      border: none;\n",
              "      border-radius: 50%;\n",
              "      cursor: pointer;\n",
              "      display: none;\n",
              "      fill: #1967D2;\n",
              "      height: 32px;\n",
              "      padding: 0 0 0 0;\n",
              "      width: 32px;\n",
              "    }\n",
              "\n",
              "    .colab-df-convert:hover {\n",
              "      background-color: #E2EBFA;\n",
              "      box-shadow: 0px 1px 2px rgba(60, 64, 67, 0.3), 0px 1px 3px 1px rgba(60, 64, 67, 0.15);\n",
              "      fill: #174EA6;\n",
              "    }\n",
              "\n",
              "    [theme=dark] .colab-df-convert {\n",
              "      background-color: #3B4455;\n",
              "      fill: #D2E3FC;\n",
              "    }\n",
              "\n",
              "    [theme=dark] .colab-df-convert:hover {\n",
              "      background-color: #434B5C;\n",
              "      box-shadow: 0px 1px 3px 1px rgba(0, 0, 0, 0.15);\n",
              "      filter: drop-shadow(0px 1px 2px rgba(0, 0, 0, 0.3));\n",
              "      fill: #FFFFFF;\n",
              "    }\n",
              "  </style>\n",
              "\n",
              "      <script>\n",
              "        const buttonEl =\n",
              "          document.querySelector('#df-66f482f2-7556-44ca-a7d8-8d924de1c659 button.colab-df-convert');\n",
              "        buttonEl.style.display =\n",
              "          google.colab.kernel.accessAllowed ? 'block' : 'none';\n",
              "\n",
              "        async function convertToInteractive(key) {\n",
              "          const element = document.querySelector('#df-66f482f2-7556-44ca-a7d8-8d924de1c659');\n",
              "          const dataTable =\n",
              "            await google.colab.kernel.invokeFunction('convertToInteractive',\n",
              "                                                     [key], {});\n",
              "          if (!dataTable) return;\n",
              "\n",
              "          const docLinkHtml = 'Like what you see? Visit the ' +\n",
              "            '<a target=\"_blank\" href=https://colab.research.google.com/notebooks/data_table.ipynb>data table notebook</a>'\n",
              "            + ' to learn more about interactive tables.';\n",
              "          element.innerHTML = '';\n",
              "          dataTable['output_type'] = 'display_data';\n",
              "          await google.colab.output.renderOutput(dataTable, element);\n",
              "          const docLink = document.createElement('div');\n",
              "          docLink.innerHTML = docLinkHtml;\n",
              "          element.appendChild(docLink);\n",
              "        }\n",
              "      </script>\n",
              "    </div>\n",
              "  </div>\n",
              "  "
            ]
          },
          "metadata": {},
          "execution_count": 256
        }
      ]
    },
    {
      "cell_type": "markdown",
      "source": [
        "## Feature Scaling"
      ],
      "metadata": {
        "id": "0ZB7CVeWzWLa"
      }
    },
    {
      "cell_type": "code",
      "source": [
        "# Scaler for training\n",
        "sc = MinMaxScaler(feature_range=(0, 1))\n",
        "train_set_scaled = sc.fit_transform(train_set)\n",
        "\n",
        "# Scaler for prediction\n",
        "sc_predict = MinMaxScaler(feature_range=(0, 1))\n",
        "sc_predict.fit_transform(train_set.iloc[:, -1:])"
      ],
      "metadata": {
        "colab": {
          "base_uri": "https://localhost:8080/"
        },
        "id": "QDqIoFAHy7NW",
        "outputId": "60632a37-46eb-4875-eec1-bd0cb1825534"
      },
      "execution_count": 258,
      "outputs": [
        {
          "output_type": "execute_result",
          "data": {
            "text/plain": [
              "array([[0.14953271],\n",
              "       [0.17757009],\n",
              "       [0.12149533],\n",
              "       ...,\n",
              "       [0.21495327],\n",
              "       [0.20560748],\n",
              "       [0.13084112]])"
            ]
          },
          "metadata": {},
          "execution_count": 258
        }
      ]
    },
    {
      "cell_type": "markdown",
      "source": [
        "## Creating data structure with n timesteps"
      ],
      "metadata": {
        "id": "XpUjwETs_c3H"
      }
    },
    {
      "cell_type": "code",
      "source": [
        "n = 96\n",
        "\n",
        "X_train = []\n",
        "y_train = []\n",
        "\n",
        "for i in range(n, len(train_set)):\n",
        "  X_train.append(train_set_scaled[ i-n:i, :])\n",
        "  y_train.append(train_set_scaled[ i, -1 ])\n",
        "\n",
        "X_train, y_train = np.array(X_train), np.array(y_train)"
      ],
      "metadata": {
        "id": "s4FBY6QWzIA4"
      },
      "execution_count": 259,
      "outputs": []
    },
    {
      "cell_type": "code",
      "source": [
        "X_train.shape"
      ],
      "metadata": {
        "colab": {
          "base_uri": "https://localhost:8080/"
        },
        "id": "4nmbV3Sp3n4H",
        "outputId": "9bb8386f-436e-4df9-ea88-266ea200cfdc"
      },
      "execution_count": 260,
      "outputs": [
        {
          "output_type": "execute_result",
          "data": {
            "text/plain": [
              "(1178, 96, 5)"
            ]
          },
          "metadata": {},
          "execution_count": 260
        }
      ]
    },
    {
      "cell_type": "markdown",
      "source": [
        "# RNN architecture"
      ],
      "metadata": {
        "id": "4wHuqGX33zAy"
      }
    },
    {
      "cell_type": "code",
      "source": [
        "def myRNN(model_name, optimizer, nb_epochs, batch_size):\n",
        "\n",
        "  regressor = Sequential()\n",
        "\n",
        "  if model_name == \"LSTM\":\n",
        "    \n",
        "    regressor.add(LSTM(units = 50, return_sequences = True, input_shape = (X_train.shape[1], X_train.shape[2])))\n",
        "    regressor.add(Dropout(0.2))\n",
        "\n",
        "    regressor.add(LSTM(units = 50, return_sequences = True))\n",
        "    regressor.add(Dropout(0.2))\n",
        "\n",
        "    regressor.add(LSTM(units = 50, return_sequences = True))\n",
        "    regressor.add(Dropout(0.2))\n",
        "\n",
        "    regressor.add(LSTM(units = 50))\n",
        "    regressor.add(Dropout(0.2))\n",
        "\n",
        "  elif model_name == \"GRU\":\n",
        "    \n",
        "    regressor.add(GRU(units = 50, return_sequences = True, input_shape = (X_train.shape[1], X_train.shape[2])))\n",
        "    regressor.add(Dropout(0.2))\n",
        "\n",
        "    regressor.add(GRU(units = 50, return_sequences = True))\n",
        "    regressor.add(Dropout(0.2))\n",
        "\n",
        "    regressor.add(GRU(units = 50, return_sequences = True))\n",
        "    regressor.add(Dropout(0.2))\n",
        "\n",
        "    regressor.add(GRU(units = 50))\n",
        "    regressor.add(Dropout(0.2))\n",
        "\n",
        "  else:\n",
        "    raise ValueError(\"Error: Wrong model name! Possible options: 'LSTM' or 'GRU'\")\n",
        "\n",
        "  regressor.add(Dense(units = 1))\n",
        "  regressor.compile(optimizer = optimizer, loss = 'mean_squared_error')\n",
        "  training = regressor.fit(X_train, y_train, epochs = nb_epochs, batch_size = batch_size)\n",
        "\n",
        "  return regressor, training"
      ],
      "metadata": {
        "id": "xEaskRfS3n53"
      },
      "execution_count": 335,
      "outputs": []
    },
    {
      "cell_type": "markdown",
      "source": [
        "# Prediction"
      ],
      "metadata": {
        "id": "cQ5cLYV2_z0u"
      }
    },
    {
      "cell_type": "markdown",
      "source": [
        "## Input for prediction"
      ],
      "metadata": {
        "id": "P41V4TW6Emci"
      }
    },
    {
      "cell_type": "code",
      "source": [
        "test_inputs = df[train_set_size - n:]\n",
        "test_inputs = sc.transform(test_inputs)"
      ],
      "metadata": {
        "id": "U7XXVbEY6J1r"
      },
      "execution_count": 287,
      "outputs": []
    },
    {
      "cell_type": "code",
      "source": [
        "test_inputs.shape"
      ],
      "metadata": {
        "colab": {
          "base_uri": "https://localhost:8080/"
        },
        "id": "7rGKAXwfqFB7",
        "outputId": "5e4f681b-670f-47cb-d54c-88b493c4775c"
      },
      "execution_count": 288,
      "outputs": [
        {
          "output_type": "execute_result",
          "data": {
            "text/plain": [
              "(238, 5)"
            ]
          },
          "metadata": {},
          "execution_count": 288
        }
      ]
    },
    {
      "cell_type": "code",
      "source": [
        "X_test = []\n",
        "\n",
        "for i in range(n, len(test_inputs)):\n",
        "  X_test.append(test_inputs[ i-n:i, : ])\n",
        "\n",
        "X_test = np.array(X_test)"
      ],
      "metadata": {
        "id": "Cf6YIZEFnr5L"
      },
      "execution_count": 289,
      "outputs": []
    },
    {
      "cell_type": "code",
      "source": [
        "X_test.shape"
      ],
      "metadata": {
        "colab": {
          "base_uri": "https://localhost:8080/"
        },
        "id": "lSHz3bB1nr84",
        "outputId": "517395cc-11f9-474a-9be0-a42b830ac7b4"
      },
      "execution_count": 290,
      "outputs": [
        {
          "output_type": "execute_result",
          "data": {
            "text/plain": [
              "(142, 96, 5)"
            ]
          },
          "metadata": {},
          "execution_count": 290
        }
      ]
    },
    {
      "cell_type": "markdown",
      "source": [
        "## Prediction function"
      ],
      "metadata": {
        "id": "r8kBQHx-Eci6"
      }
    },
    {
      "cell_type": "code",
      "source": [
        "def make_predictions(model, name):\n",
        "  \n",
        "  predicted_PM25 = model.predict(X_test)\n",
        "  predicted_PM25 = sc_predict.inverse_transform(predicted_PM25)\n",
        "\n",
        "  return predicted_PM25"
      ],
      "metadata": {
        "id": "_Y3p9TaoEB4Q"
      },
      "execution_count": 300,
      "outputs": []
    },
    {
      "cell_type": "code",
      "source": [
        "def calculate_metrics(predictions):\n",
        "  \n",
        "  rmse = math.sqrt(mean_squared_error(test_set, predictions))\n",
        "  r2 = r2_score(test_set, predictions)\n",
        "  adj_r2 = 1 - (1 - r2)*(len(test_set) - 1)/(len(test_set) - X_test.shape[1] - 1)\n",
        "\n",
        "  return rmse, r2, adj_r2"
      ],
      "metadata": {
        "id": "nKguYyvyIotE"
      },
      "execution_count": 301,
      "outputs": []
    },
    {
      "cell_type": "code",
      "source": [
        "def display_results(name, rmse, r2, adj_r2):\n",
        "\n",
        "  print(f\"Metrics for {name} model:\\n\\n\\tRMSE: {' '*7}{rmse}\\n\\tR2: {' '*9}{r2}\\n\\tAdjusted R2: {adj_r2}\")"
      ],
      "metadata": {
        "id": "VOb0lkzMIo0p"
      },
      "execution_count": 325,
      "outputs": []
    },
    {
      "cell_type": "markdown",
      "source": [
        "## Visualisation function"
      ],
      "metadata": {
        "id": "cjf6kmcYFqY2"
      }
    },
    {
      "cell_type": "code",
      "source": [
        "def make_plots(model_training, predictions, name):\n",
        "  \n",
        "  plt.plot(model_training.history['loss'], color = 'blue')\n",
        "  plt.title(f'{name} model training')\n",
        "  plt.xlabel('Epoch')\n",
        "  plt.ylabel('MSE loss')\n",
        "  plt.show()\n",
        "\n",
        "  plt.plot(test_set, color = 'black', label = 'Real PM 2.5')\n",
        "  plt.plot(predictions, color = 'red', label = 'Predicted PM 2.5')\n",
        "  plt.title(f'PM 2.5 Prediction with {name}')\n",
        "  plt.xlabel('Time [hours]')\n",
        "  plt.ylabel('PM 2.5')\n",
        "  plt.legend()\n",
        "  plt.show()"
      ],
      "metadata": {
        "id": "4EGMSnJO67-n"
      },
      "execution_count": 328,
      "outputs": []
    },
    {
      "cell_type": "markdown",
      "source": [
        "# Execute RNN training and results"
      ],
      "metadata": {
        "id": "8to4l8n1GHZ-"
      }
    },
    {
      "cell_type": "code",
      "source": [
        "model_lstm, training_lstm = myRNN(\"LSTM\", \"RMSProp\", 100, 32)"
      ],
      "metadata": {
        "colab": {
          "base_uri": "https://localhost:8080/"
        },
        "id": "28dOApe2Kjl1",
        "outputId": "642a1441-7c5d-42a0-a839-5c819607764f"
      },
      "execution_count": 336,
      "outputs": [
        {
          "output_type": "stream",
          "name": "stdout",
          "text": [
            "Epoch 1/100\n",
            "37/37 [==============================] - 10s 122ms/step - loss: 0.0327\n",
            "Epoch 2/100\n",
            "37/37 [==============================] - 5s 125ms/step - loss: 0.0222\n",
            "Epoch 3/100\n",
            "37/37 [==============================] - 4s 121ms/step - loss: 0.0223\n",
            "Epoch 4/100\n",
            "37/37 [==============================] - 4s 119ms/step - loss: 0.0183\n",
            "Epoch 5/100\n",
            "37/37 [==============================] - 4s 121ms/step - loss: 0.0157\n",
            "Epoch 6/100\n",
            "37/37 [==============================] - 5s 122ms/step - loss: 0.0161\n",
            "Epoch 7/100\n",
            "37/37 [==============================] - 4s 121ms/step - loss: 0.0142\n",
            "Epoch 8/100\n",
            "37/37 [==============================] - 5s 124ms/step - loss: 0.0133\n",
            "Epoch 9/100\n",
            "37/37 [==============================] - 5s 122ms/step - loss: 0.0128\n",
            "Epoch 10/100\n",
            "37/37 [==============================] - 5s 125ms/step - loss: 0.0124\n",
            "Epoch 11/100\n",
            "37/37 [==============================] - 4s 122ms/step - loss: 0.0121\n",
            "Epoch 12/100\n",
            "37/37 [==============================] - 5s 123ms/step - loss: 0.0114\n",
            "Epoch 13/100\n",
            "37/37 [==============================] - 4s 121ms/step - loss: 0.0106\n",
            "Epoch 14/100\n",
            "37/37 [==============================] - 5s 123ms/step - loss: 0.0099\n",
            "Epoch 15/100\n",
            "37/37 [==============================] - 5s 122ms/step - loss: 0.0098\n",
            "Epoch 16/100\n",
            "37/37 [==============================] - 5s 123ms/step - loss: 0.0095\n",
            "Epoch 17/100\n",
            "37/37 [==============================] - 4s 121ms/step - loss: 0.0092\n",
            "Epoch 18/100\n",
            "37/37 [==============================] - 5s 122ms/step - loss: 0.0088\n",
            "Epoch 19/100\n",
            "37/37 [==============================] - 4s 120ms/step - loss: 0.0083\n",
            "Epoch 20/100\n",
            "37/37 [==============================] - 5s 122ms/step - loss: 0.0081\n",
            "Epoch 21/100\n",
            "37/37 [==============================] - 4s 121ms/step - loss: 0.0082\n",
            "Epoch 22/100\n",
            "37/37 [==============================] - 5s 123ms/step - loss: 0.0080\n",
            "Epoch 23/100\n",
            "37/37 [==============================] - 5s 123ms/step - loss: 0.0073\n",
            "Epoch 24/100\n",
            "37/37 [==============================] - 5s 122ms/step - loss: 0.0069\n",
            "Epoch 25/100\n",
            "37/37 [==============================] - 4s 120ms/step - loss: 0.0073\n",
            "Epoch 26/100\n",
            "37/37 [==============================] - 5s 122ms/step - loss: 0.0072\n",
            "Epoch 27/100\n",
            "37/37 [==============================] - 5s 122ms/step - loss: 0.0070\n",
            "Epoch 28/100\n",
            "37/37 [==============================] - 5s 123ms/step - loss: 0.0066\n",
            "Epoch 29/100\n",
            "37/37 [==============================] - 4s 121ms/step - loss: 0.0066\n",
            "Epoch 30/100\n",
            "37/37 [==============================] - 4s 121ms/step - loss: 0.0063\n",
            "Epoch 31/100\n",
            "37/37 [==============================] - 4s 121ms/step - loss: 0.0061\n",
            "Epoch 32/100\n",
            "37/37 [==============================] - 5s 122ms/step - loss: 0.0062\n",
            "Epoch 33/100\n",
            "37/37 [==============================] - 5s 121ms/step - loss: 0.0059\n",
            "Epoch 34/100\n",
            "37/37 [==============================] - 5s 122ms/step - loss: 0.0055\n",
            "Epoch 35/100\n",
            "37/37 [==============================] - 4s 121ms/step - loss: 0.0057\n",
            "Epoch 36/100\n",
            "37/37 [==============================] - 5s 122ms/step - loss: 0.0055\n",
            "Epoch 37/100\n",
            "37/37 [==============================] - 5s 122ms/step - loss: 0.0055\n",
            "Epoch 38/100\n",
            "37/37 [==============================] - 4s 120ms/step - loss: 0.0057\n",
            "Epoch 39/100\n",
            "37/37 [==============================] - 4s 120ms/step - loss: 0.0052\n",
            "Epoch 40/100\n",
            "37/37 [==============================] - 4s 121ms/step - loss: 0.0048\n",
            "Epoch 41/100\n",
            "37/37 [==============================] - 5s 143ms/step - loss: 0.0052\n",
            "Epoch 42/100\n",
            "37/37 [==============================] - 5s 122ms/step - loss: 0.0050\n",
            "Epoch 43/100\n",
            "37/37 [==============================] - 4s 121ms/step - loss: 0.0047\n",
            "Epoch 44/100\n",
            "37/37 [==============================] - 4s 121ms/step - loss: 0.0048\n",
            "Epoch 45/100\n",
            "37/37 [==============================] - 5s 123ms/step - loss: 0.0050\n",
            "Epoch 46/100\n",
            "37/37 [==============================] - 4s 121ms/step - loss: 0.0043\n",
            "Epoch 47/100\n",
            "37/37 [==============================] - 4s 121ms/step - loss: 0.0045\n",
            "Epoch 48/100\n",
            "37/37 [==============================] - 4s 121ms/step - loss: 0.0046\n",
            "Epoch 49/100\n",
            "37/37 [==============================] - 4s 121ms/step - loss: 0.0046\n",
            "Epoch 50/100\n",
            "37/37 [==============================] - 5s 122ms/step - loss: 0.0042\n",
            "Epoch 51/100\n",
            "37/37 [==============================] - 5s 122ms/step - loss: 0.0043\n",
            "Epoch 52/100\n",
            "37/37 [==============================] - 5s 122ms/step - loss: 0.0042\n",
            "Epoch 53/100\n",
            "37/37 [==============================] - 4s 122ms/step - loss: 0.0044\n",
            "Epoch 54/100\n",
            "37/37 [==============================] - 4s 121ms/step - loss: 0.0043\n",
            "Epoch 55/100\n",
            "37/37 [==============================] - 5s 123ms/step - loss: 0.0037\n",
            "Epoch 56/100\n",
            "37/37 [==============================] - 5s 123ms/step - loss: 0.0042\n",
            "Epoch 57/100\n",
            "37/37 [==============================] - 5s 122ms/step - loss: 0.0042\n",
            "Epoch 58/100\n",
            "37/37 [==============================] - 4s 121ms/step - loss: 0.0042\n",
            "Epoch 59/100\n",
            "37/37 [==============================] - 5s 122ms/step - loss: 0.0038\n",
            "Epoch 60/100\n",
            "37/37 [==============================] - 5s 122ms/step - loss: 0.0040\n",
            "Epoch 61/100\n",
            "37/37 [==============================] - 4s 121ms/step - loss: 0.0039\n",
            "Epoch 62/100\n",
            "37/37 [==============================] - 4s 121ms/step - loss: 0.0038\n",
            "Epoch 63/100\n",
            "37/37 [==============================] - 4s 121ms/step - loss: 0.0038\n",
            "Epoch 64/100\n",
            "37/37 [==============================] - 5s 122ms/step - loss: 0.0039\n",
            "Epoch 65/100\n",
            "37/37 [==============================] - 4s 121ms/step - loss: 0.0038\n",
            "Epoch 66/100\n",
            "37/37 [==============================] - 4s 121ms/step - loss: 0.0036\n",
            "Epoch 67/100\n",
            "37/37 [==============================] - 4s 121ms/step - loss: 0.0039\n",
            "Epoch 68/100\n",
            "37/37 [==============================] - 5s 122ms/step - loss: 0.0037\n",
            "Epoch 69/100\n",
            "37/37 [==============================] - 4s 120ms/step - loss: 0.0037\n",
            "Epoch 70/100\n",
            "37/37 [==============================] - 5s 122ms/step - loss: 0.0039\n",
            "Epoch 71/100\n",
            "37/37 [==============================] - 5s 122ms/step - loss: 0.0038\n",
            "Epoch 72/100\n",
            "37/37 [==============================] - 5s 122ms/step - loss: 0.0037\n",
            "Epoch 73/100\n",
            "37/37 [==============================] - 5s 122ms/step - loss: 0.0033\n",
            "Epoch 74/100\n",
            "37/37 [==============================] - 4s 122ms/step - loss: 0.0038\n",
            "Epoch 75/100\n",
            "37/37 [==============================] - 5s 122ms/step - loss: 0.0036\n",
            "Epoch 76/100\n",
            "37/37 [==============================] - 5s 122ms/step - loss: 0.0037\n",
            "Epoch 77/100\n",
            "37/37 [==============================] - 5s 124ms/step - loss: 0.0035\n",
            "Epoch 78/100\n",
            "37/37 [==============================] - 5s 124ms/step - loss: 0.0035\n",
            "Epoch 79/100\n",
            "37/37 [==============================] - 4s 121ms/step - loss: 0.0035\n",
            "Epoch 80/100\n",
            "37/37 [==============================] - 5s 124ms/step - loss: 0.0033\n",
            "Epoch 81/100\n",
            "37/37 [==============================] - 5s 123ms/step - loss: 0.0036\n",
            "Epoch 82/100\n",
            "37/37 [==============================] - 5s 122ms/step - loss: 0.0034\n",
            "Epoch 83/100\n",
            "37/37 [==============================] - 5s 123ms/step - loss: 0.0033\n",
            "Epoch 84/100\n",
            "37/37 [==============================] - 4s 120ms/step - loss: 0.0034\n",
            "Epoch 85/100\n",
            "37/37 [==============================] - 5s 143ms/step - loss: 0.0035\n",
            "Epoch 86/100\n",
            "37/37 [==============================] - 5s 122ms/step - loss: 0.0034\n",
            "Epoch 87/100\n",
            "37/37 [==============================] - 4s 121ms/step - loss: 0.0034\n",
            "Epoch 88/100\n",
            "37/37 [==============================] - 4s 121ms/step - loss: 0.0032\n",
            "Epoch 89/100\n",
            "37/37 [==============================] - 5s 123ms/step - loss: 0.0032\n",
            "Epoch 90/100\n",
            "37/37 [==============================] - 5s 122ms/step - loss: 0.0033\n",
            "Epoch 91/100\n",
            "37/37 [==============================] - 5s 123ms/step - loss: 0.0031\n",
            "Epoch 92/100\n",
            "37/37 [==============================] - 4s 121ms/step - loss: 0.0033\n",
            "Epoch 93/100\n",
            "37/37 [==============================] - 5s 123ms/step - loss: 0.0031\n",
            "Epoch 94/100\n",
            "37/37 [==============================] - 4s 121ms/step - loss: 0.0033\n",
            "Epoch 95/100\n",
            "37/37 [==============================] - 5s 122ms/step - loss: 0.0032\n",
            "Epoch 96/100\n",
            "37/37 [==============================] - 4s 122ms/step - loss: 0.0030\n",
            "Epoch 97/100\n",
            "37/37 [==============================] - 5s 123ms/step - loss: 0.0030\n",
            "Epoch 98/100\n",
            "37/37 [==============================] - 5s 122ms/step - loss: 0.0032\n",
            "Epoch 99/100\n",
            "37/37 [==============================] - 4s 121ms/step - loss: 0.0030\n",
            "Epoch 100/100\n",
            "37/37 [==============================] - 5s 122ms/step - loss: 0.0032\n"
          ]
        }
      ]
    },
    {
      "cell_type": "code",
      "source": [
        "model_gru, training_gru = myRNN(\"GRU\", \"RMSProp\", 100, 32)"
      ],
      "metadata": {
        "colab": {
          "base_uri": "https://localhost:8080/"
        },
        "id": "XQKe6qkhI8u_",
        "outputId": "6d90895a-ca08-4ebc-d810-16de42cd046e"
      },
      "execution_count": 337,
      "outputs": [
        {
          "output_type": "stream",
          "name": "stdout",
          "text": [
            "Epoch 1/100\n",
            "37/37 [==============================] - 10s 118ms/step - loss: 0.0262\n",
            "Epoch 2/100\n",
            "37/37 [==============================] - 4s 119ms/step - loss: 0.0166\n",
            "Epoch 3/100\n",
            "37/37 [==============================] - 4s 120ms/step - loss: 0.0129\n",
            "Epoch 4/100\n",
            "37/37 [==============================] - 4s 118ms/step - loss: 0.0134\n",
            "Epoch 5/100\n",
            "37/37 [==============================] - 4s 119ms/step - loss: 0.0110\n",
            "Epoch 6/100\n",
            "37/37 [==============================] - 4s 118ms/step - loss: 0.0106\n",
            "Epoch 7/100\n",
            "37/37 [==============================] - 4s 117ms/step - loss: 0.0091\n",
            "Epoch 8/100\n",
            "37/37 [==============================] - 4s 117ms/step - loss: 0.0084\n",
            "Epoch 9/100\n",
            "37/37 [==============================] - 4s 119ms/step - loss: 0.0083\n",
            "Epoch 10/100\n",
            "37/37 [==============================] - 4s 118ms/step - loss: 0.0073\n",
            "Epoch 11/100\n",
            "37/37 [==============================] - 4s 119ms/step - loss: 0.0071\n",
            "Epoch 12/100\n",
            "37/37 [==============================] - 4s 117ms/step - loss: 0.0070\n",
            "Epoch 13/100\n",
            "37/37 [==============================] - 4s 117ms/step - loss: 0.0066\n",
            "Epoch 14/100\n",
            "37/37 [==============================] - 4s 116ms/step - loss: 0.0068\n",
            "Epoch 15/100\n",
            "37/37 [==============================] - 4s 117ms/step - loss: 0.0061\n",
            "Epoch 16/100\n",
            "37/37 [==============================] - 4s 117ms/step - loss: 0.0060\n",
            "Epoch 17/100\n",
            "37/37 [==============================] - 4s 117ms/step - loss: 0.0058\n",
            "Epoch 18/100\n",
            "37/37 [==============================] - 4s 118ms/step - loss: 0.0054\n",
            "Epoch 19/100\n",
            "37/37 [==============================] - 4s 118ms/step - loss: 0.0052\n",
            "Epoch 20/100\n",
            "37/37 [==============================] - 4s 117ms/step - loss: 0.0057\n",
            "Epoch 21/100\n",
            "37/37 [==============================] - 4s 117ms/step - loss: 0.0051\n",
            "Epoch 22/100\n",
            "37/37 [==============================] - 4s 117ms/step - loss: 0.0054\n",
            "Epoch 23/100\n",
            "37/37 [==============================] - 4s 117ms/step - loss: 0.0050\n",
            "Epoch 24/100\n",
            "37/37 [==============================] - 4s 118ms/step - loss: 0.0054\n",
            "Epoch 25/100\n",
            "37/37 [==============================] - 4s 117ms/step - loss: 0.0048\n",
            "Epoch 26/100\n",
            "37/37 [==============================] - 4s 118ms/step - loss: 0.0051\n",
            "Epoch 27/100\n",
            "37/37 [==============================] - 4s 119ms/step - loss: 0.0047\n",
            "Epoch 28/100\n",
            "37/37 [==============================] - 5s 140ms/step - loss: 0.0051\n",
            "Epoch 29/100\n",
            "37/37 [==============================] - 4s 118ms/step - loss: 0.0047\n",
            "Epoch 30/100\n",
            "37/37 [==============================] - 4s 118ms/step - loss: 0.0049\n",
            "Epoch 31/100\n",
            "37/37 [==============================] - 4s 119ms/step - loss: 0.0047\n",
            "Epoch 32/100\n",
            "37/37 [==============================] - 4s 118ms/step - loss: 0.0043\n",
            "Epoch 33/100\n",
            "37/37 [==============================] - 4s 117ms/step - loss: 0.0046\n",
            "Epoch 34/100\n",
            "37/37 [==============================] - 4s 116ms/step - loss: 0.0046\n",
            "Epoch 35/100\n",
            "37/37 [==============================] - 4s 116ms/step - loss: 0.0042\n",
            "Epoch 36/100\n",
            "37/37 [==============================] - 4s 118ms/step - loss: 0.0042\n",
            "Epoch 37/100\n",
            "37/37 [==============================] - 4s 117ms/step - loss: 0.0042\n",
            "Epoch 38/100\n",
            "37/37 [==============================] - 4s 118ms/step - loss: 0.0046\n",
            "Epoch 39/100\n",
            "37/37 [==============================] - 4s 118ms/step - loss: 0.0043\n",
            "Epoch 40/100\n",
            "37/37 [==============================] - 4s 118ms/step - loss: 0.0043\n",
            "Epoch 41/100\n",
            "37/37 [==============================] - 4s 118ms/step - loss: 0.0041\n",
            "Epoch 42/100\n",
            "37/37 [==============================] - 4s 118ms/step - loss: 0.0039\n",
            "Epoch 43/100\n",
            "37/37 [==============================] - 4s 118ms/step - loss: 0.0038\n",
            "Epoch 44/100\n",
            "37/37 [==============================] - 4s 120ms/step - loss: 0.0042\n",
            "Epoch 45/100\n",
            "37/37 [==============================] - 4s 120ms/step - loss: 0.0039\n",
            "Epoch 46/100\n",
            "37/37 [==============================] - 4s 119ms/step - loss: 0.0040\n",
            "Epoch 47/100\n",
            "37/37 [==============================] - 4s 119ms/step - loss: 0.0036\n",
            "Epoch 48/100\n",
            "37/37 [==============================] - 4s 117ms/step - loss: 0.0037\n",
            "Epoch 49/100\n",
            "37/37 [==============================] - 4s 117ms/step - loss: 0.0037\n",
            "Epoch 50/100\n",
            "37/37 [==============================] - 4s 120ms/step - loss: 0.0039\n",
            "Epoch 51/100\n",
            "37/37 [==============================] - 4s 120ms/step - loss: 0.0039\n",
            "Epoch 52/100\n",
            "37/37 [==============================] - 4s 121ms/step - loss: 0.0037\n",
            "Epoch 53/100\n",
            "37/37 [==============================] - 4s 119ms/step - loss: 0.0036\n",
            "Epoch 54/100\n",
            "37/37 [==============================] - 4s 119ms/step - loss: 0.0037\n",
            "Epoch 55/100\n",
            "37/37 [==============================] - 4s 118ms/step - loss: 0.0038\n",
            "Epoch 56/100\n",
            "37/37 [==============================] - 4s 117ms/step - loss: 0.0035\n",
            "Epoch 57/100\n",
            "37/37 [==============================] - 4s 119ms/step - loss: 0.0039\n",
            "Epoch 58/100\n",
            "37/37 [==============================] - 4s 119ms/step - loss: 0.0035\n",
            "Epoch 59/100\n",
            "37/37 [==============================] - 4s 119ms/step - loss: 0.0037\n",
            "Epoch 60/100\n",
            "37/37 [==============================] - 4s 119ms/step - loss: 0.0036\n",
            "Epoch 61/100\n",
            "37/37 [==============================] - 4s 119ms/step - loss: 0.0036\n",
            "Epoch 62/100\n",
            "37/37 [==============================] - 4s 117ms/step - loss: 0.0034\n",
            "Epoch 63/100\n",
            "37/37 [==============================] - 4s 118ms/step - loss: 0.0036\n",
            "Epoch 64/100\n",
            "37/37 [==============================] - 4s 119ms/step - loss: 0.0036\n",
            "Epoch 65/100\n",
            "37/37 [==============================] - 4s 117ms/step - loss: 0.0035\n",
            "Epoch 66/100\n",
            "37/37 [==============================] - 4s 117ms/step - loss: 0.0035\n",
            "Epoch 67/100\n",
            "37/37 [==============================] - 4s 121ms/step - loss: 0.0037\n",
            "Epoch 68/100\n",
            "37/37 [==============================] - 4s 119ms/step - loss: 0.0035\n",
            "Epoch 69/100\n",
            "37/37 [==============================] - 4s 120ms/step - loss: 0.0035\n",
            "Epoch 70/100\n",
            "37/37 [==============================] - 4s 118ms/step - loss: 0.0034\n",
            "Epoch 71/100\n",
            "37/37 [==============================] - 4s 119ms/step - loss: 0.0034\n",
            "Epoch 72/100\n",
            "37/37 [==============================] - 5s 144ms/step - loss: 0.0034\n",
            "Epoch 73/100\n",
            "37/37 [==============================] - 4s 120ms/step - loss: 0.0034\n",
            "Epoch 74/100\n",
            "37/37 [==============================] - 4s 119ms/step - loss: 0.0033\n",
            "Epoch 75/100\n",
            "37/37 [==============================] - 4s 120ms/step - loss: 0.0033\n",
            "Epoch 76/100\n",
            "37/37 [==============================] - 4s 118ms/step - loss: 0.0034\n",
            "Epoch 77/100\n",
            "37/37 [==============================] - 4s 119ms/step - loss: 0.0033\n",
            "Epoch 78/100\n",
            "37/37 [==============================] - 4s 120ms/step - loss: 0.0034\n",
            "Epoch 79/100\n",
            "37/37 [==============================] - 4s 119ms/step - loss: 0.0033\n",
            "Epoch 80/100\n",
            "37/37 [==============================] - 4s 118ms/step - loss: 0.0032\n",
            "Epoch 81/100\n",
            "37/37 [==============================] - 4s 119ms/step - loss: 0.0034\n",
            "Epoch 82/100\n",
            "37/37 [==============================] - 4s 119ms/step - loss: 0.0032\n",
            "Epoch 83/100\n",
            "37/37 [==============================] - 4s 119ms/step - loss: 0.0032\n",
            "Epoch 84/100\n",
            "37/37 [==============================] - 4s 120ms/step - loss: 0.0034\n",
            "Epoch 85/100\n",
            "37/37 [==============================] - 4s 121ms/step - loss: 0.0031\n",
            "Epoch 86/100\n",
            "37/37 [==============================] - 4s 120ms/step - loss: 0.0031\n",
            "Epoch 87/100\n",
            "37/37 [==============================] - 4s 121ms/step - loss: 0.0030\n",
            "Epoch 88/100\n",
            "37/37 [==============================] - 4s 120ms/step - loss: 0.0033\n",
            "Epoch 89/100\n",
            "37/37 [==============================] - 4s 118ms/step - loss: 0.0032\n",
            "Epoch 90/100\n",
            "37/37 [==============================] - 4s 118ms/step - loss: 0.0032\n",
            "Epoch 91/100\n",
            "37/37 [==============================] - 4s 119ms/step - loss: 0.0031\n",
            "Epoch 92/100\n",
            "37/37 [==============================] - 4s 118ms/step - loss: 0.0032\n",
            "Epoch 93/100\n",
            "37/37 [==============================] - 4s 117ms/step - loss: 0.0032\n",
            "Epoch 94/100\n",
            "37/37 [==============================] - 4s 120ms/step - loss: 0.0032\n",
            "Epoch 95/100\n",
            "37/37 [==============================] - 4s 119ms/step - loss: 0.0029\n",
            "Epoch 96/100\n",
            "37/37 [==============================] - 4s 118ms/step - loss: 0.0032\n",
            "Epoch 97/100\n",
            "37/37 [==============================] - 4s 118ms/step - loss: 0.0031\n",
            "Epoch 98/100\n",
            "37/37 [==============================] - 4s 120ms/step - loss: 0.0032\n",
            "Epoch 99/100\n",
            "37/37 [==============================] - 4s 120ms/step - loss: 0.0031\n",
            "Epoch 100/100\n",
            "37/37 [==============================] - 4s 119ms/step - loss: 0.0032\n"
          ]
        }
      ]
    },
    {
      "cell_type": "code",
      "source": [
        "predictions_lstm = make_predictions(model_lstm, \"LSTM\")\n",
        "predictions_gru = make_predictions(model_gru, \"GRU\")"
      ],
      "metadata": {
        "id": "YBBOD-C1F7nE"
      },
      "execution_count": 338,
      "outputs": []
    },
    {
      "cell_type": "code",
      "source": [
        "rmse_lstm, r2_lstm, adj_r2_lstm = calculate_metrics(predictions_lstm)\n",
        "rmse_gru, r2_gru, adj_r2_gru = calculate_metrics(predictions_gru)"
      ],
      "metadata": {
        "id": "BiRvXnxf7THX"
      },
      "execution_count": 339,
      "outputs": []
    },
    {
      "cell_type": "code",
      "source": [
        "display_results(\"LSTM\", rmse_lstm, r2_lstm, adj_r2_lstm)\n",
        "print(\"\")\n",
        "display_results(\"GRU\", rmse_gru, r2_gru, adj_r2_gru)"
      ],
      "metadata": {
        "colab": {
          "base_uri": "https://localhost:8080/"
        },
        "id": "xovPFlKCI41U",
        "outputId": "031bd025-d3d5-49b3-8e17-222b55aa0c1e"
      },
      "execution_count": 341,
      "outputs": [
        {
          "output_type": "stream",
          "name": "stdout",
          "text": [
            "Metrics for LSTM model:\n",
            "\n",
            "\tRMSE:        5.95742669929337\n",
            "\tR2:          0.8249490737458354\n",
            "\tAdjusted R2: 0.45150709773695086\n",
            "\n",
            "Metrics for GRU model:\n",
            "\n",
            "\tRMSE:        5.275611235244319\n",
            "\tR2:          0.8627246476291968\n",
            "\tAdjusted R2: 0.5698705625714833\n"
          ]
        }
      ]
    },
    {
      "cell_type": "code",
      "source": [
        "make_plots(training_gru, predictions_gru, \"LSTM\")"
      ],
      "metadata": {
        "colab": {
          "base_uri": "https://localhost:8080/",
          "height": 573
        },
        "id": "UGhbk4oZI_l8",
        "outputId": "b6728dd6-b64c-456a-add9-65b725257aca"
      },
      "execution_count": 344,
      "outputs": [
        {
          "output_type": "display_data",
          "data": {
            "text/plain": [
              "<Figure size 432x288 with 1 Axes>"
            ],
            "image/png": "[encoded data removed]"
          },
          "metadata": {
            "needs_background": "light"
          }
        },
        {
          "output_type": "display_data",
          "data": {
            "text/plain": [
              "<Figure size 432x288 with 1 Axes>"
            ],
            "image/png": "[encoded data removed]"
          },
          "metadata": {
            "needs_background": "light"
          }
        }
      ]
    },
    {
      "cell_type": "code",
      "source": [
        "make_plots(training_gru, predictions_gru, \"GRU\")"
      ],
      "metadata": {
        "colab": {
          "base_uri": "https://localhost:8080/",
          "height": 573
        },
        "id": "EZzP1CtMKBNk",
        "outputId": "4dbfe79d-1ace-419b-b827-f411b1ff3dbd"
      },
      "execution_count": 345,
      "outputs": [
        {
          "output_type": "display_data",
          "data": {
            "text/plain": [
              "<Figure size 432x288 with 1 Axes>"
            ],
            "image/png": "[encoded data removed]"
          },
          "metadata": {
            "needs_background": "light"
          }
        },
        {
          "output_type": "display_data",
          "data": {
            "text/plain": [
              "<Figure size 432x288 with 1 Axes>"
            ],
            "image/png": "[encoded data removed]"
          },
          "metadata": {
            "needs_background": "light"
          }
        }
      ]
    }
  ]
}